{
 "cells": [
  {
   "cell_type": "code",
   "execution_count": 1,
   "id": "330cb747",
   "metadata": {
    "_cell_guid": "b1076dfc-b9ad-4769-8c92-a6c4dae69d19",
    "_uuid": "8f2839f25d086af736a60e9eeb907d3b93b6e0e5",
    "execution": {
     "iopub.execute_input": "2022-06-11T02:17:04.091443Z",
     "iopub.status.busy": "2022-06-11T02:17:04.090595Z",
     "iopub.status.idle": "2022-06-11T02:17:04.106474Z",
     "shell.execute_reply": "2022-06-11T02:17:04.105536Z"
    },
    "papermill": {
     "duration": 0.036901,
     "end_time": "2022-06-11T02:17:04.108938",
     "exception": false,
     "start_time": "2022-06-11T02:17:04.072037",
     "status": "completed"
    },
    "tags": []
   },
   "outputs": [
    {
     "name": "stdout",
     "output_type": "stream",
     "text": [
      "/kaggle/input/titanic/train.csv\n",
      "/kaggle/input/titanic/test.csv\n",
      "/kaggle/input/titanic/gender_submission.csv\n"
     ]
    }
   ],
   "source": [
    "# This Python 3 environment comes with many helpful analytics libraries installed\n",
    "# It is defined by the kaggle/python Docker image: https://github.com/kaggle/docker-python\n",
    "# For example, here's several helpful packages to load\n",
    "\n",
    "import numpy as np # linear algebra\n",
    "import pandas as pd # data processing, CSV file I/O (e.g. pd.read_csv)\n",
    "\n",
    "# Input data files are available in the read-only \"../input/\" directory\n",
    "# For example, running this (by clicking run or pressing Shift+Enter) will list all files under the input directory\n",
    "\n",
    "import os\n",
    "for dirname, _, filenames in os.walk('/kaggle/input'):\n",
    "    for filename in filenames:\n",
    "        print(os.path.join(dirname, filename))\n",
    "\n",
    "# You can write up to 20GB to the current directory (/kaggle/working/) that gets preserved as output when you create a version using \"Save & Run All\" \n",
    "# You can also write temporary files to /kaggle/temp/, but they won't be saved outside of the current session"
   ]
  },
  {
   "cell_type": "code",
   "execution_count": 2,
   "id": "ec565cff",
   "metadata": {
    "execution": {
     "iopub.execute_input": "2022-06-11T02:17:04.143349Z",
     "iopub.status.busy": "2022-06-11T02:17:04.142835Z",
     "iopub.status.idle": "2022-06-11T02:17:05.331128Z",
     "shell.execute_reply": "2022-06-11T02:17:05.330154Z"
    },
    "papermill": {
     "duration": 1.208131,
     "end_time": "2022-06-11T02:17:05.333737",
     "exception": false,
     "start_time": "2022-06-11T02:17:04.125606",
     "status": "completed"
    },
    "tags": []
   },
   "outputs": [],
   "source": [
    "import seaborn as sns\n",
    "import matplotlib.pyplot as plt\n",
    "import warnings\n",
    "warnings.filterwarnings(\"ignore\")"
   ]
  },
  {
   "cell_type": "markdown",
   "id": "c128f563",
   "metadata": {
    "papermill": {
     "duration": 0.015091,
     "end_time": "2022-06-11T02:17:05.364437",
     "exception": false,
     "start_time": "2022-06-11T02:17:05.349346",
     "status": "completed"
    },
    "tags": []
   },
   "source": [
    "# Project overview\n",
    "\n",
    "\n",
    "Steps\n",
    "\n",
    "1. I want to get a feel for the data:\n",
    "    - What is the type of the data\n",
    "    - What kind of features do I have\n",
    "    - What is the distribution of the data like\n",
    "    - Correlation betweens features\n",
    "    \n",
    "2. Data exploration\n",
    "    - What are some intuitive ideas about what it would take to survive on the Titanic?\n",
    "        - Wealthy vs non-wealthy\n",
    "        - male vs female\n",
    "        - children vs adults\n",
    "        - traveling alone vs in groups\n",
    "        - location on the ship\n",
    "    - What are the value counts like for features based on the survived vs deceased?\n",
    "    \n",
    "    \n",
    "    \n",
    "    \n",
    " \n",
    "3. What kind of data manipulation has to be done to create models for this data set?\n",
    "     - Deal with missing values\n",
    "         - What data is to be dropped vs imputed\n",
    "     - How should data be transformed?\n",
    "         - get_dummies for categorical variables\n",
    "     - How should data be scaled?\n",
    "         - Should we do MinMaxScaler or StandardScaler?\n",
    "         \n",
    "         \n",
    "         \n",
    "         \n",
    "4. Create all classification models you know\n",
    "     - Logistic Regression\n",
    "     - KNN\n",
    "     - SVM\n",
    "     - Decision Tree\n",
    "     - Random Forests\n",
    "     - Boosting Methods\n",
    "     - Naive Bayes\n",
    "     \n",
    "5. GridSearch best params and find your best model\n",
    "     - Can show performance emtrics like classification report and plot the confusion matrix\n",
    "     \n",
    "     \n",
    "     \n",
    "     \n",
    "6. Conclude the project and make a submission to kaggle**"
   ]
  },
  {
   "cell_type": "code",
   "execution_count": 3,
   "id": "b1ef0b4b",
   "metadata": {
    "execution": {
     "iopub.execute_input": "2022-06-11T02:17:05.397070Z",
     "iopub.status.busy": "2022-06-11T02:17:05.396378Z",
     "iopub.status.idle": "2022-06-11T02:17:05.425185Z",
     "shell.execute_reply": "2022-06-11T02:17:05.423842Z"
    },
    "papermill": {
     "duration": 0.048016,
     "end_time": "2022-06-11T02:17:05.427781",
     "exception": false,
     "start_time": "2022-06-11T02:17:05.379765",
     "status": "completed"
    },
    "tags": []
   },
   "outputs": [],
   "source": [
    "df = pd.read_csv('/kaggle/input/titanic/train.csv')\n",
    "df_test = pd.read_csv('/kaggle/input/titanic/test.csv')\n"
   ]
  },
  {
   "cell_type": "markdown",
   "id": "31ff9c9f",
   "metadata": {
    "papermill": {
     "duration": 0.015111,
     "end_time": "2022-06-11T02:17:05.458576",
     "exception": false,
     "start_time": "2022-06-11T02:17:05.443465",
     "status": "completed"
    },
    "tags": []
   },
   "source": [
    "# Step 1:\n",
    "\n",
    "* I want to get a feel for the data:\n",
    "    * What is the type of the data\n",
    "    * What kind of features do I have\n",
    "    * What is the distribution of the data like\n",
    "    * Correlation betweens features"
   ]
  },
  {
   "cell_type": "code",
   "execution_count": 4,
   "id": "612de3d8",
   "metadata": {
    "execution": {
     "iopub.execute_input": "2022-06-11T02:17:05.491063Z",
     "iopub.status.busy": "2022-06-11T02:17:05.490256Z",
     "iopub.status.idle": "2022-06-11T02:17:05.523568Z",
     "shell.execute_reply": "2022-06-11T02:17:05.522620Z"
    },
    "papermill": {
     "duration": 0.052575,
     "end_time": "2022-06-11T02:17:05.526112",
     "exception": false,
     "start_time": "2022-06-11T02:17:05.473537",
     "status": "completed"
    },
    "tags": []
   },
   "outputs": [
    {
     "name": "stdout",
     "output_type": "stream",
     "text": [
      "<class 'pandas.core.frame.DataFrame'>\n",
      "RangeIndex: 891 entries, 0 to 890\n",
      "Data columns (total 12 columns):\n",
      " #   Column       Non-Null Count  Dtype  \n",
      "---  ------       --------------  -----  \n",
      " 0   PassengerId  891 non-null    int64  \n",
      " 1   Survived     891 non-null    int64  \n",
      " 2   Pclass       891 non-null    int64  \n",
      " 3   Name         891 non-null    object \n",
      " 4   Sex          891 non-null    object \n",
      " 5   Age          714 non-null    float64\n",
      " 6   SibSp        891 non-null    int64  \n",
      " 7   Parch        891 non-null    int64  \n",
      " 8   Ticket       891 non-null    object \n",
      " 9   Fare         891 non-null    float64\n",
      " 10  Cabin        204 non-null    object \n",
      " 11  Embarked     889 non-null    object \n",
      "dtypes: float64(2), int64(5), object(5)\n",
      "memory usage: 83.7+ KB\n"
     ]
    }
   ],
   "source": [
    "df.info()"
   ]
  },
  {
   "cell_type": "code",
   "execution_count": 5,
   "id": "015c1695",
   "metadata": {
    "execution": {
     "iopub.execute_input": "2022-06-11T02:17:05.559265Z",
     "iopub.status.busy": "2022-06-11T02:17:05.558457Z",
     "iopub.status.idle": "2022-06-11T02:17:05.600069Z",
     "shell.execute_reply": "2022-06-11T02:17:05.598891Z"
    },
    "papermill": {
     "duration": 0.061148,
     "end_time": "2022-06-11T02:17:05.602757",
     "exception": false,
     "start_time": "2022-06-11T02:17:05.541609",
     "status": "completed"
    },
    "tags": []
   },
   "outputs": [
    {
     "data": {
      "text/html": [
       "<div>\n",
       "<style scoped>\n",
       "    .dataframe tbody tr th:only-of-type {\n",
       "        vertical-align: middle;\n",
       "    }\n",
       "\n",
       "    .dataframe tbody tr th {\n",
       "        vertical-align: top;\n",
       "    }\n",
       "\n",
       "    .dataframe thead th {\n",
       "        text-align: right;\n",
       "    }\n",
       "</style>\n",
       "<table border=\"1\" class=\"dataframe\">\n",
       "  <thead>\n",
       "    <tr style=\"text-align: right;\">\n",
       "      <th></th>\n",
       "      <th>PassengerId</th>\n",
       "      <th>Survived</th>\n",
       "      <th>Pclass</th>\n",
       "      <th>Age</th>\n",
       "      <th>SibSp</th>\n",
       "      <th>Parch</th>\n",
       "      <th>Fare</th>\n",
       "    </tr>\n",
       "  </thead>\n",
       "  <tbody>\n",
       "    <tr>\n",
       "      <th>count</th>\n",
       "      <td>891.000000</td>\n",
       "      <td>891.000000</td>\n",
       "      <td>891.000000</td>\n",
       "      <td>714.000000</td>\n",
       "      <td>891.000000</td>\n",
       "      <td>891.000000</td>\n",
       "      <td>891.000000</td>\n",
       "    </tr>\n",
       "    <tr>\n",
       "      <th>mean</th>\n",
       "      <td>446.000000</td>\n",
       "      <td>0.383838</td>\n",
       "      <td>2.308642</td>\n",
       "      <td>29.699118</td>\n",
       "      <td>0.523008</td>\n",
       "      <td>0.381594</td>\n",
       "      <td>32.204208</td>\n",
       "    </tr>\n",
       "    <tr>\n",
       "      <th>std</th>\n",
       "      <td>257.353842</td>\n",
       "      <td>0.486592</td>\n",
       "      <td>0.836071</td>\n",
       "      <td>14.526497</td>\n",
       "      <td>1.102743</td>\n",
       "      <td>0.806057</td>\n",
       "      <td>49.693429</td>\n",
       "    </tr>\n",
       "    <tr>\n",
       "      <th>min</th>\n",
       "      <td>1.000000</td>\n",
       "      <td>0.000000</td>\n",
       "      <td>1.000000</td>\n",
       "      <td>0.420000</td>\n",
       "      <td>0.000000</td>\n",
       "      <td>0.000000</td>\n",
       "      <td>0.000000</td>\n",
       "    </tr>\n",
       "    <tr>\n",
       "      <th>25%</th>\n",
       "      <td>223.500000</td>\n",
       "      <td>0.000000</td>\n",
       "      <td>2.000000</td>\n",
       "      <td>20.125000</td>\n",
       "      <td>0.000000</td>\n",
       "      <td>0.000000</td>\n",
       "      <td>7.910400</td>\n",
       "    </tr>\n",
       "    <tr>\n",
       "      <th>50%</th>\n",
       "      <td>446.000000</td>\n",
       "      <td>0.000000</td>\n",
       "      <td>3.000000</td>\n",
       "      <td>28.000000</td>\n",
       "      <td>0.000000</td>\n",
       "      <td>0.000000</td>\n",
       "      <td>14.454200</td>\n",
       "    </tr>\n",
       "    <tr>\n",
       "      <th>75%</th>\n",
       "      <td>668.500000</td>\n",
       "      <td>1.000000</td>\n",
       "      <td>3.000000</td>\n",
       "      <td>38.000000</td>\n",
       "      <td>1.000000</td>\n",
       "      <td>0.000000</td>\n",
       "      <td>31.000000</td>\n",
       "    </tr>\n",
       "    <tr>\n",
       "      <th>max</th>\n",
       "      <td>891.000000</td>\n",
       "      <td>1.000000</td>\n",
       "      <td>3.000000</td>\n",
       "      <td>80.000000</td>\n",
       "      <td>8.000000</td>\n",
       "      <td>6.000000</td>\n",
       "      <td>512.329200</td>\n",
       "    </tr>\n",
       "  </tbody>\n",
       "</table>\n",
       "</div>"
      ],
      "text/plain": [
       "       PassengerId    Survived      Pclass         Age       SibSp  \\\n",
       "count   891.000000  891.000000  891.000000  714.000000  891.000000   \n",
       "mean    446.000000    0.383838    2.308642   29.699118    0.523008   \n",
       "std     257.353842    0.486592    0.836071   14.526497    1.102743   \n",
       "min       1.000000    0.000000    1.000000    0.420000    0.000000   \n",
       "25%     223.500000    0.000000    2.000000   20.125000    0.000000   \n",
       "50%     446.000000    0.000000    3.000000   28.000000    0.000000   \n",
       "75%     668.500000    1.000000    3.000000   38.000000    1.000000   \n",
       "max     891.000000    1.000000    3.000000   80.000000    8.000000   \n",
       "\n",
       "            Parch        Fare  \n",
       "count  891.000000  891.000000  \n",
       "mean     0.381594   32.204208  \n",
       "std      0.806057   49.693429  \n",
       "min      0.000000    0.000000  \n",
       "25%      0.000000    7.910400  \n",
       "50%      0.000000   14.454200  \n",
       "75%      0.000000   31.000000  \n",
       "max      6.000000  512.329200  "
      ]
     },
     "execution_count": 5,
     "metadata": {},
     "output_type": "execute_result"
    }
   ],
   "source": [
    "df.describe()"
   ]
  },
  {
   "cell_type": "code",
   "execution_count": 6,
   "id": "80852157",
   "metadata": {
    "execution": {
     "iopub.execute_input": "2022-06-11T02:17:05.637267Z",
     "iopub.status.busy": "2022-06-11T02:17:05.636860Z",
     "iopub.status.idle": "2022-06-11T02:17:05.644901Z",
     "shell.execute_reply": "2022-06-11T02:17:05.643785Z"
    },
    "papermill": {
     "duration": 0.028129,
     "end_time": "2022-06-11T02:17:05.647081",
     "exception": false,
     "start_time": "2022-06-11T02:17:05.618952",
     "status": "completed"
    },
    "tags": []
   },
   "outputs": [
    {
     "data": {
      "text/plain": [
       "PassengerId      int64\n",
       "Survived         int64\n",
       "Pclass           int64\n",
       "Name            object\n",
       "Sex             object\n",
       "Age            float64\n",
       "SibSp            int64\n",
       "Parch            int64\n",
       "Ticket          object\n",
       "Fare           float64\n",
       "Cabin           object\n",
       "Embarked        object\n",
       "dtype: object"
      ]
     },
     "execution_count": 6,
     "metadata": {},
     "output_type": "execute_result"
    }
   ],
   "source": [
    "df.dtypes"
   ]
  },
  {
   "cell_type": "code",
   "execution_count": 7,
   "id": "68e1eed9",
   "metadata": {
    "execution": {
     "iopub.execute_input": "2022-06-11T02:17:05.679347Z",
     "iopub.status.busy": "2022-06-11T02:17:05.678963Z",
     "iopub.status.idle": "2022-06-11T02:17:05.695722Z",
     "shell.execute_reply": "2022-06-11T02:17:05.694799Z"
    },
    "papermill": {
     "duration": 0.035782,
     "end_time": "2022-06-11T02:17:05.698168",
     "exception": false,
     "start_time": "2022-06-11T02:17:05.662386",
     "status": "completed"
    },
    "tags": []
   },
   "outputs": [
    {
     "data": {
      "text/html": [
       "<div>\n",
       "<style scoped>\n",
       "    .dataframe tbody tr th:only-of-type {\n",
       "        vertical-align: middle;\n",
       "    }\n",
       "\n",
       "    .dataframe tbody tr th {\n",
       "        vertical-align: top;\n",
       "    }\n",
       "\n",
       "    .dataframe thead th {\n",
       "        text-align: right;\n",
       "    }\n",
       "</style>\n",
       "<table border=\"1\" class=\"dataframe\">\n",
       "  <thead>\n",
       "    <tr style=\"text-align: right;\">\n",
       "      <th></th>\n",
       "      <th>PassengerId</th>\n",
       "      <th>Survived</th>\n",
       "      <th>Pclass</th>\n",
       "      <th>Name</th>\n",
       "      <th>Sex</th>\n",
       "      <th>Age</th>\n",
       "      <th>SibSp</th>\n",
       "      <th>Parch</th>\n",
       "      <th>Ticket</th>\n",
       "      <th>Fare</th>\n",
       "      <th>Cabin</th>\n",
       "      <th>Embarked</th>\n",
       "    </tr>\n",
       "  </thead>\n",
       "  <tbody>\n",
       "    <tr>\n",
       "      <th>0</th>\n",
       "      <td>1</td>\n",
       "      <td>0</td>\n",
       "      <td>3</td>\n",
       "      <td>Braund, Mr. Owen Harris</td>\n",
       "      <td>male</td>\n",
       "      <td>22.0</td>\n",
       "      <td>1</td>\n",
       "      <td>0</td>\n",
       "      <td>A/5 21171</td>\n",
       "      <td>7.2500</td>\n",
       "      <td>NaN</td>\n",
       "      <td>S</td>\n",
       "    </tr>\n",
       "    <tr>\n",
       "      <th>1</th>\n",
       "      <td>2</td>\n",
       "      <td>1</td>\n",
       "      <td>1</td>\n",
       "      <td>Cumings, Mrs. John Bradley (Florence Briggs Th...</td>\n",
       "      <td>female</td>\n",
       "      <td>38.0</td>\n",
       "      <td>1</td>\n",
       "      <td>0</td>\n",
       "      <td>PC 17599</td>\n",
       "      <td>71.2833</td>\n",
       "      <td>C85</td>\n",
       "      <td>C</td>\n",
       "    </tr>\n",
       "    <tr>\n",
       "      <th>2</th>\n",
       "      <td>3</td>\n",
       "      <td>1</td>\n",
       "      <td>3</td>\n",
       "      <td>Heikkinen, Miss. Laina</td>\n",
       "      <td>female</td>\n",
       "      <td>26.0</td>\n",
       "      <td>0</td>\n",
       "      <td>0</td>\n",
       "      <td>STON/O2. 3101282</td>\n",
       "      <td>7.9250</td>\n",
       "      <td>NaN</td>\n",
       "      <td>S</td>\n",
       "    </tr>\n",
       "    <tr>\n",
       "      <th>3</th>\n",
       "      <td>4</td>\n",
       "      <td>1</td>\n",
       "      <td>1</td>\n",
       "      <td>Futrelle, Mrs. Jacques Heath (Lily May Peel)</td>\n",
       "      <td>female</td>\n",
       "      <td>35.0</td>\n",
       "      <td>1</td>\n",
       "      <td>0</td>\n",
       "      <td>113803</td>\n",
       "      <td>53.1000</td>\n",
       "      <td>C123</td>\n",
       "      <td>S</td>\n",
       "    </tr>\n",
       "    <tr>\n",
       "      <th>4</th>\n",
       "      <td>5</td>\n",
       "      <td>0</td>\n",
       "      <td>3</td>\n",
       "      <td>Allen, Mr. William Henry</td>\n",
       "      <td>male</td>\n",
       "      <td>35.0</td>\n",
       "      <td>0</td>\n",
       "      <td>0</td>\n",
       "      <td>373450</td>\n",
       "      <td>8.0500</td>\n",
       "      <td>NaN</td>\n",
       "      <td>S</td>\n",
       "    </tr>\n",
       "  </tbody>\n",
       "</table>\n",
       "</div>"
      ],
      "text/plain": [
       "   PassengerId  Survived  Pclass  \\\n",
       "0            1         0       3   \n",
       "1            2         1       1   \n",
       "2            3         1       3   \n",
       "3            4         1       1   \n",
       "4            5         0       3   \n",
       "\n",
       "                                                Name     Sex   Age  SibSp  \\\n",
       "0                            Braund, Mr. Owen Harris    male  22.0      1   \n",
       "1  Cumings, Mrs. John Bradley (Florence Briggs Th...  female  38.0      1   \n",
       "2                             Heikkinen, Miss. Laina  female  26.0      0   \n",
       "3       Futrelle, Mrs. Jacques Heath (Lily May Peel)  female  35.0      1   \n",
       "4                           Allen, Mr. William Henry    male  35.0      0   \n",
       "\n",
       "   Parch            Ticket     Fare Cabin Embarked  \n",
       "0      0         A/5 21171   7.2500   NaN        S  \n",
       "1      0          PC 17599  71.2833   C85        C  \n",
       "2      0  STON/O2. 3101282   7.9250   NaN        S  \n",
       "3      0            113803  53.1000  C123        S  \n",
       "4      0            373450   8.0500   NaN        S  "
      ]
     },
     "execution_count": 7,
     "metadata": {},
     "output_type": "execute_result"
    }
   ],
   "source": [
    "df.head()"
   ]
  },
  {
   "cell_type": "code",
   "execution_count": 8,
   "id": "62569825",
   "metadata": {
    "execution": {
     "iopub.execute_input": "2022-06-11T02:17:05.733618Z",
     "iopub.status.busy": "2022-06-11T02:17:05.732059Z",
     "iopub.status.idle": "2022-06-11T02:17:05.740870Z",
     "shell.execute_reply": "2022-06-11T02:17:05.739757Z"
    },
    "papermill": {
     "duration": 0.028793,
     "end_time": "2022-06-11T02:17:05.743128",
     "exception": false,
     "start_time": "2022-06-11T02:17:05.714335",
     "status": "completed"
    },
    "tags": []
   },
   "outputs": [],
   "source": [
    "cat = df[['Survived','Pclass','Sex','Ticket','Cabin','Embarked']]\n",
    "num = df[['Age','SibSp','Parch','Fare']]"
   ]
  },
  {
   "cell_type": "code",
   "execution_count": 9,
   "id": "d828998d",
   "metadata": {
    "execution": {
     "iopub.execute_input": "2022-06-11T02:17:05.777032Z",
     "iopub.status.busy": "2022-06-11T02:17:05.776023Z",
     "iopub.status.idle": "2022-06-11T02:17:06.603969Z",
     "shell.execute_reply": "2022-06-11T02:17:06.603177Z"
    },
    "papermill": {
     "duration": 0.847149,
     "end_time": "2022-06-11T02:17:06.606016",
     "exception": false,
     "start_time": "2022-06-11T02:17:05.758867",
     "status": "completed"
    },
    "tags": []
   },
   "outputs": [
    {
     "data": {
      "image/png": "[encoded data removed]",
      "text/plain": [
       "<Figure size 432x288 with 1 Axes>"
      ]
     },
     "metadata": {
      "needs_background": "light"
     },
     "output_type": "display_data"
    },
    {
     "data": {
      "image/png": "[encoded data removed]",
      "text/plain": [
       "<Figure size 432x288 with 1 Axes>"
      ]
     },
     "metadata": {
      "needs_background": "light"
     },
     "output_type": "display_data"
    },
    {
     "data": {
      "image/png": "[encoded data removed]",
      "text/plain": [
       "<Figure size 432x288 with 1 Axes>"
      ]
     },
     "metadata": {
      "needs_background": "light"
     },
     "output_type": "display_data"
    },
    {
     "data": {
      "image/png": "[encoded data removed]",
      "text/plain": [
       "<Figure size 432x288 with 1 Axes>"
      ]
     },
     "metadata": {
      "needs_background": "light"
     },
     "output_type": "display_data"
    }
   ],
   "source": [
    "for feature in num.columns:\n",
    "    plt.hist(num[feature],color = 'darkblue')\n",
    "    plt.title(feature)\n",
    "    plt.show()"
   ]
  },
  {
   "cell_type": "code",
   "execution_count": 10,
   "id": "24e57ec0",
   "metadata": {
    "execution": {
     "iopub.execute_input": "2022-06-11T02:17:06.642108Z",
     "iopub.status.busy": "2022-06-11T02:17:06.640774Z",
     "iopub.status.idle": "2022-06-11T02:17:06.915499Z",
     "shell.execute_reply": "2022-06-11T02:17:06.914497Z"
    },
    "papermill": {
     "duration": 0.295363,
     "end_time": "2022-06-11T02:17:06.918106",
     "exception": false,
     "start_time": "2022-06-11T02:17:06.622743",
     "status": "completed"
    },
    "tags": []
   },
   "outputs": [
    {
     "data": {
      "text/plain": [
       "<AxesSubplot:>"
      ]
     },
     "execution_count": 10,
     "metadata": {},
     "output_type": "execute_result"
    },
    {
     "data": {
      "image/png": "[encoded data removed]",
      "text/plain": [
       "<Figure size 432x288 with 2 Axes>"
      ]
     },
     "metadata": {
      "needs_background": "light"
     },
     "output_type": "display_data"
    }
   ],
   "source": [
    "sns.heatmap(num.corr(),annot=True,cmap = 'coolwarm')"
   ]
  },
  {
   "cell_type": "markdown",
   "id": "bd8607ca",
   "metadata": {
    "papermill": {
     "duration": 0.01664,
     "end_time": "2022-06-11T02:17:06.952652",
     "exception": false,
     "start_time": "2022-06-11T02:17:06.936012",
     "status": "completed"
    },
    "tags": []
   },
   "source": [
    "2. Data exploration\n",
    "    - What are some intuitive ideas about what it would take to survive on the Titanic?\n",
    "        - Wealthy vs non-wealthy\n",
    "        - male vs female\n",
    "        - children vs adults\n",
    "        - traveling alone vs in groups\n",
    "        - location on the ship\n",
    "    - What are the value counts like for features based on the survived vs deceased?"
   ]
  },
  {
   "cell_type": "code",
   "execution_count": 11,
   "id": "4a447e51",
   "metadata": {
    "execution": {
     "iopub.execute_input": "2022-06-11T02:17:06.990046Z",
     "iopub.status.busy": "2022-06-11T02:17:06.989572Z",
     "iopub.status.idle": "2022-06-11T02:17:07.019866Z",
     "shell.execute_reply": "2022-06-11T02:17:07.018908Z"
    },
    "papermill": {
     "duration": 0.051412,
     "end_time": "2022-06-11T02:17:07.021887",
     "exception": false,
     "start_time": "2022-06-11T02:17:06.970475",
     "status": "completed"
    },
    "tags": []
   },
   "outputs": [
    {
     "data": {
      "text/html": [
       "<div>\n",
       "<style scoped>\n",
       "    .dataframe tbody tr th:only-of-type {\n",
       "        vertical-align: middle;\n",
       "    }\n",
       "\n",
       "    .dataframe tbody tr th {\n",
       "        vertical-align: top;\n",
       "    }\n",
       "\n",
       "    .dataframe thead th {\n",
       "        text-align: right;\n",
       "    }\n",
       "</style>\n",
       "<table border=\"1\" class=\"dataframe\">\n",
       "  <thead>\n",
       "    <tr style=\"text-align: right;\">\n",
       "      <th></th>\n",
       "      <th>Age</th>\n",
       "      <th>Fare</th>\n",
       "      <th>Parch</th>\n",
       "      <th>SibSp</th>\n",
       "    </tr>\n",
       "    <tr>\n",
       "      <th>Survived</th>\n",
       "      <th></th>\n",
       "      <th></th>\n",
       "      <th></th>\n",
       "      <th></th>\n",
       "    </tr>\n",
       "  </thead>\n",
       "  <tbody>\n",
       "    <tr>\n",
       "      <th>0</th>\n",
       "      <td>30.626179</td>\n",
       "      <td>22.117887</td>\n",
       "      <td>0.329690</td>\n",
       "      <td>0.553734</td>\n",
       "    </tr>\n",
       "    <tr>\n",
       "      <th>1</th>\n",
       "      <td>28.343690</td>\n",
       "      <td>48.395408</td>\n",
       "      <td>0.464912</td>\n",
       "      <td>0.473684</td>\n",
       "    </tr>\n",
       "  </tbody>\n",
       "</table>\n",
       "</div>"
      ],
      "text/plain": [
       "                Age       Fare     Parch     SibSp\n",
       "Survived                                          \n",
       "0         30.626179  22.117887  0.329690  0.553734\n",
       "1         28.343690  48.395408  0.464912  0.473684"
      ]
     },
     "execution_count": 11,
     "metadata": {},
     "output_type": "execute_result"
    }
   ],
   "source": [
    "pd.pivot_table(df,index = 'Survived', values = ['Age','SibSp','Parch','Fare'])"
   ]
  },
  {
   "cell_type": "code",
   "execution_count": 12,
   "id": "fc43bdda",
   "metadata": {
    "execution": {
     "iopub.execute_input": "2022-06-11T02:17:07.058679Z",
     "iopub.status.busy": "2022-06-11T02:17:07.057540Z",
     "iopub.status.idle": "2022-06-11T02:17:07.062540Z",
     "shell.execute_reply": "2022-06-11T02:17:07.061750Z"
    },
    "papermill": {
     "duration": 0.025388,
     "end_time": "2022-06-11T02:17:07.064568",
     "exception": false,
     "start_time": "2022-06-11T02:17:07.039180",
     "status": "completed"
    },
    "tags": []
   },
   "outputs": [],
   "source": [
    "# Summary of numeric features\n",
    "\n",
    "# Should create a feature named isChild where it shows survival of people under 14 as younger people had a better chance\n",
    "# Fare doesn't have a normal distribution but that is kinda expected (first class will never have as many seats as 2nd/3rd)"
   ]
  },
  {
   "cell_type": "code",
   "execution_count": 13,
   "id": "3e7b3c75",
   "metadata": {
    "execution": {
     "iopub.execute_input": "2022-06-11T02:17:07.102102Z",
     "iopub.status.busy": "2022-06-11T02:17:07.101406Z",
     "iopub.status.idle": "2022-06-11T02:17:18.181746Z",
     "shell.execute_reply": "2022-06-11T02:17:18.180422Z"
    },
    "papermill": {
     "duration": 11.101996,
     "end_time": "2022-06-11T02:17:18.184473",
     "exception": false,
     "start_time": "2022-06-11T02:17:07.082477",
     "status": "completed"
    },
    "tags": []
   },
   "outputs": [
    {
     "data": {
      "image/png": "[encoded data removed]",
      "text/plain": [
       "<Figure size 432x288 with 1 Axes>"
      ]
     },
     "metadata": {
      "needs_background": "light"
     },
     "output_type": "display_data"
    },
    {
     "data": {
      "image/png": "[encoded data removed]",
      "text/plain": [
       "<Figure size 432x288 with 1 Axes>"
      ]
     },
     "metadata": {
      "needs_background": "light"
     },
     "output_type": "display_data"
    },
    {
     "data": {
      "image/png": "[encoded data removed]",
      "text/plain": [
       "<Figure size 432x288 with 1 Axes>"
      ]
     },
     "metadata": {
      "needs_background": "light"
     },
     "output_type": "display_data"
    },
    {
     "data": {
      "image/png": "[encoded data removed]",
      "text/plain": [
       "<Figure size 432x288 with 1 Axes>"
      ]
     },
     "metadata": {
      "needs_background": "light"
     },
     "output_type": "display_data"
    },
    {
     "data": {
      "image/png": "[encoded data removed]",
      "text/plain": [
       "<Figure size 432x288 with 1 Axes>"
      ]
     },
     "metadata": {
      "needs_background": "light"
     },
     "output_type": "display_data"
    },
    {
     "data": {
      "image/png": "[encoded data removed]",
      "text/plain": [
       "<Figure size 432x288 with 1 Axes>"
      ]
     },
     "metadata": {
      "needs_background": "light"
     },
     "output_type": "display_data"
    }
   ],
   "source": [
    "for feature in cat.columns:\n",
    "    sns.barplot(x = cat[feature].value_counts().index , y = cat[feature].value_counts()).set_title(feature)\n",
    "    plt.show()"
   ]
  },
  {
   "cell_type": "code",
   "execution_count": 14,
   "id": "fb31641f",
   "metadata": {
    "execution": {
     "iopub.execute_input": "2022-06-11T02:17:18.224049Z",
     "iopub.status.busy": "2022-06-11T02:17:18.223119Z",
     "iopub.status.idle": "2022-06-11T02:17:18.227641Z",
     "shell.execute_reply": "2022-06-11T02:17:18.226991Z"
    },
    "papermill": {
     "duration": 0.026301,
     "end_time": "2022-06-11T02:17:18.229566",
     "exception": false,
     "start_time": "2022-06-11T02:17:18.203265",
     "status": "completed"
    },
    "tags": []
   },
   "outputs": [],
   "source": [
    "# Summary of categorical features\n",
    "\n",
    "# Majority came from S so data may be skewed there\n",
    "# Need to fix Cabin by letter\n",
    "# Distribution is abround 66-33 deceased vs survived so expect numbers to be around the same if there is nothing fishy with a feature\n",
    "# Need to check out survival rates for these as it seems lots of features aren't equal"
   ]
  },
  {
   "cell_type": "code",
   "execution_count": 15,
   "id": "1448ee45",
   "metadata": {
    "execution": {
     "iopub.execute_input": "2022-06-11T02:17:18.268872Z",
     "iopub.status.busy": "2022-06-11T02:17:18.268198Z",
     "iopub.status.idle": "2022-06-11T02:17:18.286415Z",
     "shell.execute_reply": "2022-06-11T02:17:18.285489Z"
    },
    "papermill": {
     "duration": 0.041136,
     "end_time": "2022-06-11T02:17:18.289232",
     "exception": false,
     "start_time": "2022-06-11T02:17:18.248096",
     "status": "completed"
    },
    "tags": []
   },
   "outputs": [
    {
     "name": "stdout",
     "output_type": "stream",
     "text": [
      "Embarked   C   Q    S\n",
      "Survived             \n",
      "0         75  47  427\n",
      "1         93  30  217\n"
     ]
    }
   ],
   "source": [
    "print(pd.pivot_table(df, index = 'Survived', columns = 'Embarked', values = 'Ticket' ,aggfunc ='count'))"
   ]
  },
  {
   "cell_type": "code",
   "execution_count": 16,
   "id": "c8ce071d",
   "metadata": {
    "execution": {
     "iopub.execute_input": "2022-06-11T02:17:18.330491Z",
     "iopub.status.busy": "2022-06-11T02:17:18.330046Z",
     "iopub.status.idle": "2022-06-11T02:17:18.347814Z",
     "shell.execute_reply": "2022-06-11T02:17:18.346657Z"
    },
    "papermill": {
     "duration": 0.040996,
     "end_time": "2022-06-11T02:17:18.350677",
     "exception": false,
     "start_time": "2022-06-11T02:17:18.309681",
     "status": "completed"
    },
    "tags": []
   },
   "outputs": [
    {
     "name": "stdout",
     "output_type": "stream",
     "text": [
      "Sex       female  male\n",
      "Survived              \n",
      "0             81   468\n",
      "1            233   109\n"
     ]
    }
   ],
   "source": [
    "print(pd.pivot_table(df, index = 'Survived', columns = 'Sex', values = 'Ticket' ,aggfunc ='count'))"
   ]
  },
  {
   "cell_type": "code",
   "execution_count": 17,
   "id": "2e1edf8a",
   "metadata": {
    "execution": {
     "iopub.execute_input": "2022-06-11T02:17:18.390284Z",
     "iopub.status.busy": "2022-06-11T02:17:18.389926Z",
     "iopub.status.idle": "2022-06-11T02:17:18.406289Z",
     "shell.execute_reply": "2022-06-11T02:17:18.404434Z"
    },
    "papermill": {
     "duration": 0.038645,
     "end_time": "2022-06-11T02:17:18.408732",
     "exception": false,
     "start_time": "2022-06-11T02:17:18.370087",
     "status": "completed"
    },
    "tags": []
   },
   "outputs": [
    {
     "name": "stdout",
     "output_type": "stream",
     "text": [
      "Pclass      1   2    3\n",
      "Survived              \n",
      "0          80  97  372\n",
      "1         136  87  119\n"
     ]
    }
   ],
   "source": [
    "print(pd.pivot_table(df, index = 'Survived', columns = 'Pclass', values = 'Ticket' ,aggfunc ='count'))"
   ]
  },
  {
   "cell_type": "code",
   "execution_count": 18,
   "id": "1226b1f0",
   "metadata": {
    "execution": {
     "iopub.execute_input": "2022-06-11T02:17:18.448373Z",
     "iopub.status.busy": "2022-06-11T02:17:18.447680Z",
     "iopub.status.idle": "2022-06-11T02:17:18.451794Z",
     "shell.execute_reply": "2022-06-11T02:17:18.451159Z"
    },
    "papermill": {
     "duration": 0.026188,
     "end_time": "2022-06-11T02:17:18.453727",
     "exception": false,
     "start_time": "2022-06-11T02:17:18.427539",
     "status": "completed"
    },
    "tags": []
   },
   "outputs": [],
   "source": [
    "# Much more likely to survive if you are female\n",
    "# Cherbourg had a positive survival ratio when overall titanic had negative survival ratio\n",
    "# Much more likely to survive if from Pclass 1 than any other class"
   ]
  },
  {
   "cell_type": "markdown",
   "id": "d8fb540d",
   "metadata": {
    "papermill": {
     "duration": 0.018692,
     "end_time": "2022-06-11T02:17:18.491031",
     "exception": false,
     "start_time": "2022-06-11T02:17:18.472339",
     "status": "completed"
    },
    "tags": []
   },
   "source": [
    "3. What kind of data manipulation has to be done to create models for this data set?\n",
    "     - Deal with missing values\n",
    "         - What data is to be dropped vs imputed\n",
    "         \n",
    "     - Feature engineering\n",
    "         - Change cabin to be by letter \n",
    "         - Change ticket to be number or alpha numeric\n",
    "         - Add a column that states isChild\n",
    "                  \n",
    "     - How should data be transformed?\n",
    "         - get_dummies for categorical variables\n",
    "         \n",
    "     - How should data be scaled?\n",
    "         - Should we do MinMaxScaler or StandardScaler?"
   ]
  },
  {
   "cell_type": "code",
   "execution_count": 19,
   "id": "fb539ece",
   "metadata": {
    "execution": {
     "iopub.execute_input": "2022-06-11T02:17:18.530720Z",
     "iopub.status.busy": "2022-06-11T02:17:18.529587Z",
     "iopub.status.idle": "2022-06-11T02:17:18.534778Z",
     "shell.execute_reply": "2022-06-11T02:17:18.533650Z"
    },
    "papermill": {
     "duration": 0.027134,
     "end_time": "2022-06-11T02:17:18.536884",
     "exception": false,
     "start_time": "2022-06-11T02:17:18.509750",
     "status": "completed"
    },
    "tags": []
   },
   "outputs": [],
   "source": [
    "# Missing Values"
   ]
  },
  {
   "cell_type": "code",
   "execution_count": 20,
   "id": "68cbd1d1",
   "metadata": {
    "execution": {
     "iopub.execute_input": "2022-06-11T02:17:18.576508Z",
     "iopub.status.busy": "2022-06-11T02:17:18.576050Z",
     "iopub.status.idle": "2022-06-11T02:17:18.585525Z",
     "shell.execute_reply": "2022-06-11T02:17:18.584789Z"
    },
    "papermill": {
     "duration": 0.032144,
     "end_time": "2022-06-11T02:17:18.587739",
     "exception": false,
     "start_time": "2022-06-11T02:17:18.555595",
     "status": "completed"
    },
    "tags": []
   },
   "outputs": [],
   "source": [
    "full_df = pd.concat([df,df_test])"
   ]
  },
  {
   "cell_type": "code",
   "execution_count": 21,
   "id": "3d4ab577",
   "metadata": {
    "execution": {
     "iopub.execute_input": "2022-06-11T02:17:18.630208Z",
     "iopub.status.busy": "2022-06-11T02:17:18.628930Z",
     "iopub.status.idle": "2022-06-11T02:17:18.639329Z",
     "shell.execute_reply": "2022-06-11T02:17:18.638664Z"
    },
    "papermill": {
     "duration": 0.033537,
     "end_time": "2022-06-11T02:17:18.641233",
     "exception": false,
     "start_time": "2022-06-11T02:17:18.607696",
     "status": "completed"
    },
    "tags": []
   },
   "outputs": [
    {
     "data": {
      "text/plain": [
       "PassengerId       0\n",
       "Survived        418\n",
       "Pclass            0\n",
       "Name              0\n",
       "Sex               0\n",
       "Age             263\n",
       "SibSp             0\n",
       "Parch             0\n",
       "Ticket            0\n",
       "Fare              1\n",
       "Cabin          1014\n",
       "Embarked          2\n",
       "dtype: int64"
      ]
     },
     "execution_count": 21,
     "metadata": {},
     "output_type": "execute_result"
    }
   ],
   "source": [
    "full_df.isnull().sum()"
   ]
  },
  {
   "cell_type": "code",
   "execution_count": null,
   "id": "a992a5a8",
   "metadata": {
    "papermill": {
     "duration": 0.018895,
     "end_time": "2022-06-11T02:17:18.680357",
     "exception": false,
     "start_time": "2022-06-11T02:17:18.661462",
     "status": "completed"
    },
    "tags": []
   },
   "outputs": [],
   "source": []
  },
  {
   "cell_type": "code",
   "execution_count": 22,
   "id": "587d2393",
   "metadata": {
    "execution": {
     "iopub.execute_input": "2022-06-11T02:17:18.720897Z",
     "iopub.status.busy": "2022-06-11T02:17:18.720286Z",
     "iopub.status.idle": "2022-06-11T02:17:18.959994Z",
     "shell.execute_reply": "2022-06-11T02:17:18.959098Z"
    },
    "papermill": {
     "duration": 0.262717,
     "end_time": "2022-06-11T02:17:18.962274",
     "exception": false,
     "start_time": "2022-06-11T02:17:18.699557",
     "status": "completed"
    },
    "tags": []
   },
   "outputs": [],
   "source": [
    "# df.dropna(subset=['Embarked'],inplace = True)\n",
    "# df_test.dropna(subset=['Embarked'],inplace = True)\n",
    "\n",
    "full_df.Age = df.Age.fillna(full_df.Age.median())\n",
    "full_df['Fare'].fillna(full_df.Fare.median(),inplace= True)\n",
    "\n",
    "# Going to try to fill Embarked in with mode of Embarked instead\n",
    "\n",
    "full_df['Embarked'].fillna(full_df['Embarked'].mode()[0], inplace = True)\n",
    "\n"
   ]
  },
  {
   "cell_type": "code",
   "execution_count": 23,
   "id": "ce5924de",
   "metadata": {
    "execution": {
     "iopub.execute_input": "2022-06-11T02:17:19.002851Z",
     "iopub.status.busy": "2022-06-11T02:17:19.001772Z",
     "iopub.status.idle": "2022-06-11T02:17:19.012946Z",
     "shell.execute_reply": "2022-06-11T02:17:19.011990Z"
    },
    "papermill": {
     "duration": 0.033603,
     "end_time": "2022-06-11T02:17:19.015007",
     "exception": false,
     "start_time": "2022-06-11T02:17:18.981404",
     "status": "completed"
    },
    "tags": []
   },
   "outputs": [
    {
     "data": {
      "text/plain": [
       "PassengerId       0\n",
       "Survived        418\n",
       "Pclass            0\n",
       "Name              0\n",
       "Sex               0\n",
       "Age               0\n",
       "SibSp             0\n",
       "Parch             0\n",
       "Ticket            0\n",
       "Fare              0\n",
       "Cabin          1014\n",
       "Embarked          0\n",
       "dtype: int64"
      ]
     },
     "execution_count": 23,
     "metadata": {},
     "output_type": "execute_result"
    }
   ],
   "source": [
    "full_df.isnull().sum()"
   ]
  },
  {
   "cell_type": "code",
   "execution_count": 24,
   "id": "c4a9e223",
   "metadata": {
    "execution": {
     "iopub.execute_input": "2022-06-11T02:17:19.054995Z",
     "iopub.status.busy": "2022-06-11T02:17:19.054036Z",
     "iopub.status.idle": "2022-06-11T02:17:19.066240Z",
     "shell.execute_reply": "2022-06-11T02:17:19.065332Z"
    },
    "papermill": {
     "duration": 0.0344,
     "end_time": "2022-06-11T02:17:19.068216",
     "exception": false,
     "start_time": "2022-06-11T02:17:19.033816",
     "status": "completed"
    },
    "tags": []
   },
   "outputs": [
    {
     "data": {
      "text/plain": [
       "0    1014\n",
       "1     254\n",
       "2      26\n",
       "3      10\n",
       "4       5\n",
       "Name: cabin_multiple, dtype: int64"
      ]
     },
     "execution_count": 24,
     "metadata": {},
     "output_type": "execute_result"
    }
   ],
   "source": [
    "full_df['cabin_multiple'] = full_df.Cabin.apply(lambda x: 0 if pd.isna(x) else len(x.split(' ')))\n",
    "full_df['cabin_multiple'].value_counts()"
   ]
  },
  {
   "cell_type": "code",
   "execution_count": 25,
   "id": "a957fe9f",
   "metadata": {
    "execution": {
     "iopub.execute_input": "2022-06-11T02:17:19.108584Z",
     "iopub.status.busy": "2022-06-11T02:17:19.107548Z",
     "iopub.status.idle": "2022-06-11T02:17:19.118189Z",
     "shell.execute_reply": "2022-06-11T02:17:19.117384Z"
    },
    "papermill": {
     "duration": 0.032505,
     "end_time": "2022-06-11T02:17:19.119931",
     "exception": false,
     "start_time": "2022-06-11T02:17:19.087426",
     "status": "completed"
    },
    "tags": []
   },
   "outputs": [
    {
     "data": {
      "text/plain": [
       "n    1014\n",
       "C      94\n",
       "B      65\n",
       "D      46\n",
       "E      41\n",
       "A      22\n",
       "F      21\n",
       "G       5\n",
       "T       1\n",
       "Name: cabin_adv, dtype: int64"
      ]
     },
     "execution_count": 25,
     "metadata": {},
     "output_type": "execute_result"
    }
   ],
   "source": [
    "full_df['cabin_adv'] = full_df.Cabin.apply(lambda x: str(x)[0])\n",
    "full_df['cabin_adv'].value_counts()"
   ]
  },
  {
   "cell_type": "code",
   "execution_count": 26,
   "id": "9815211d",
   "metadata": {
    "execution": {
     "iopub.execute_input": "2022-06-11T02:17:19.161065Z",
     "iopub.status.busy": "2022-06-11T02:17:19.160431Z",
     "iopub.status.idle": "2022-06-11T02:17:19.166888Z",
     "shell.execute_reply": "2022-06-11T02:17:19.166166Z"
    },
    "papermill": {
     "duration": 0.029214,
     "end_time": "2022-06-11T02:17:19.168648",
     "exception": false,
     "start_time": "2022-06-11T02:17:19.139434",
     "status": "completed"
    },
    "tags": []
   },
   "outputs": [],
   "source": [
    "full_df.drop(['PassengerId','Cabin', 'Ticket'], axis=1, inplace = True)"
   ]
  },
  {
   "cell_type": "code",
   "execution_count": 27,
   "id": "7f497565",
   "metadata": {
    "execution": {
     "iopub.execute_input": "2022-06-11T02:17:19.209161Z",
     "iopub.status.busy": "2022-06-11T02:17:19.208459Z",
     "iopub.status.idle": "2022-06-11T02:17:19.252830Z",
     "shell.execute_reply": "2022-06-11T02:17:19.252007Z"
    },
    "papermill": {
     "duration": 0.067417,
     "end_time": "2022-06-11T02:17:19.255073",
     "exception": false,
     "start_time": "2022-06-11T02:17:19.187656",
     "status": "completed"
    },
    "tags": []
   },
   "outputs": [],
   "source": [
    "# Creating some variables that seem important\n",
    "\n",
    "full_df['FamilySize'] = full_df['SibSp']+full_df['Parch']+1\n",
    "\n",
    "full_df['Alone'] = 1\n",
    "full_df['Alone'].loc[full_df['FamilySize'] > 1] = 0\n",
    "\n",
    "\n",
    "full_df['Title'] = full_df['Name'].str.split(\", \", expand=True)[1].str.split(\".\", expand=True)[0]\n",
    "\n",
    "# Dividing people into bins by fare and age\n",
    "# full_df['FareBin'] = pd.qcut(full_df['Fare'], 4)\n",
    "# full_df['AgeBin'] = pd.cut(full_df['Age'].astype(int), 5)\n",
    "\n",
    "def conditions(row):\n",
    "    if row.Age <= 15:\n",
    "        return 1\n",
    "    else:\n",
    "        return 0\n",
    "            \n",
    "\n",
    "full_df['Child'] = full_df.apply(conditions, axis=1)\n"
   ]
  },
  {
   "cell_type": "code",
   "execution_count": 28,
   "id": "3dc37030",
   "metadata": {
    "execution": {
     "iopub.execute_input": "2022-06-11T02:17:19.296495Z",
     "iopub.status.busy": "2022-06-11T02:17:19.295867Z",
     "iopub.status.idle": "2022-06-11T02:17:19.313822Z",
     "shell.execute_reply": "2022-06-11T02:17:19.312933Z"
    },
    "papermill": {
     "duration": 0.041018,
     "end_time": "2022-06-11T02:17:19.315893",
     "exception": false,
     "start_time": "2022-06-11T02:17:19.274875",
     "status": "completed"
    },
    "tags": []
   },
   "outputs": [
    {
     "data": {
      "text/html": [
       "<div>\n",
       "<style scoped>\n",
       "    .dataframe tbody tr th:only-of-type {\n",
       "        vertical-align: middle;\n",
       "    }\n",
       "\n",
       "    .dataframe tbody tr th {\n",
       "        vertical-align: top;\n",
       "    }\n",
       "\n",
       "    .dataframe thead th {\n",
       "        text-align: right;\n",
       "    }\n",
       "</style>\n",
       "<table border=\"1\" class=\"dataframe\">\n",
       "  <thead>\n",
       "    <tr style=\"text-align: right;\">\n",
       "      <th></th>\n",
       "      <th>Survived</th>\n",
       "      <th>Pclass</th>\n",
       "      <th>Name</th>\n",
       "      <th>Sex</th>\n",
       "      <th>Age</th>\n",
       "      <th>SibSp</th>\n",
       "      <th>Parch</th>\n",
       "      <th>Fare</th>\n",
       "      <th>Embarked</th>\n",
       "      <th>cabin_multiple</th>\n",
       "      <th>cabin_adv</th>\n",
       "      <th>FamilySize</th>\n",
       "      <th>Alone</th>\n",
       "      <th>Title</th>\n",
       "      <th>Child</th>\n",
       "    </tr>\n",
       "  </thead>\n",
       "  <tbody>\n",
       "    <tr>\n",
       "      <th>0</th>\n",
       "      <td>0.0</td>\n",
       "      <td>3</td>\n",
       "      <td>Braund, Mr. Owen Harris</td>\n",
       "      <td>male</td>\n",
       "      <td>22.0</td>\n",
       "      <td>1</td>\n",
       "      <td>0</td>\n",
       "      <td>7.2500</td>\n",
       "      <td>S</td>\n",
       "      <td>0</td>\n",
       "      <td>n</td>\n",
       "      <td>2</td>\n",
       "      <td>0</td>\n",
       "      <td>Mr</td>\n",
       "      <td>0</td>\n",
       "    </tr>\n",
       "    <tr>\n",
       "      <th>1</th>\n",
       "      <td>1.0</td>\n",
       "      <td>1</td>\n",
       "      <td>Cumings, Mrs. John Bradley (Florence Briggs Th...</td>\n",
       "      <td>female</td>\n",
       "      <td>38.0</td>\n",
       "      <td>1</td>\n",
       "      <td>0</td>\n",
       "      <td>71.2833</td>\n",
       "      <td>C</td>\n",
       "      <td>1</td>\n",
       "      <td>C</td>\n",
       "      <td>2</td>\n",
       "      <td>0</td>\n",
       "      <td>Mrs</td>\n",
       "      <td>0</td>\n",
       "    </tr>\n",
       "    <tr>\n",
       "      <th>2</th>\n",
       "      <td>1.0</td>\n",
       "      <td>3</td>\n",
       "      <td>Heikkinen, Miss. Laina</td>\n",
       "      <td>female</td>\n",
       "      <td>26.0</td>\n",
       "      <td>0</td>\n",
       "      <td>0</td>\n",
       "      <td>7.9250</td>\n",
       "      <td>S</td>\n",
       "      <td>0</td>\n",
       "      <td>n</td>\n",
       "      <td>1</td>\n",
       "      <td>1</td>\n",
       "      <td>Miss</td>\n",
       "      <td>0</td>\n",
       "    </tr>\n",
       "    <tr>\n",
       "      <th>3</th>\n",
       "      <td>1.0</td>\n",
       "      <td>1</td>\n",
       "      <td>Futrelle, Mrs. Jacques Heath (Lily May Peel)</td>\n",
       "      <td>female</td>\n",
       "      <td>35.0</td>\n",
       "      <td>1</td>\n",
       "      <td>0</td>\n",
       "      <td>53.1000</td>\n",
       "      <td>S</td>\n",
       "      <td>1</td>\n",
       "      <td>C</td>\n",
       "      <td>2</td>\n",
       "      <td>0</td>\n",
       "      <td>Mrs</td>\n",
       "      <td>0</td>\n",
       "    </tr>\n",
       "    <tr>\n",
       "      <th>4</th>\n",
       "      <td>0.0</td>\n",
       "      <td>3</td>\n",
       "      <td>Allen, Mr. William Henry</td>\n",
       "      <td>male</td>\n",
       "      <td>35.0</td>\n",
       "      <td>0</td>\n",
       "      <td>0</td>\n",
       "      <td>8.0500</td>\n",
       "      <td>S</td>\n",
       "      <td>0</td>\n",
       "      <td>n</td>\n",
       "      <td>1</td>\n",
       "      <td>1</td>\n",
       "      <td>Mr</td>\n",
       "      <td>0</td>\n",
       "    </tr>\n",
       "  </tbody>\n",
       "</table>\n",
       "</div>"
      ],
      "text/plain": [
       "   Survived  Pclass                                               Name  \\\n",
       "0       0.0       3                            Braund, Mr. Owen Harris   \n",
       "1       1.0       1  Cumings, Mrs. John Bradley (Florence Briggs Th...   \n",
       "2       1.0       3                             Heikkinen, Miss. Laina   \n",
       "3       1.0       1       Futrelle, Mrs. Jacques Heath (Lily May Peel)   \n",
       "4       0.0       3                           Allen, Mr. William Henry   \n",
       "\n",
       "      Sex   Age  SibSp  Parch     Fare Embarked  cabin_multiple cabin_adv  \\\n",
       "0    male  22.0      1      0   7.2500        S               0         n   \n",
       "1  female  38.0      1      0  71.2833        C               1         C   \n",
       "2  female  26.0      0      0   7.9250        S               0         n   \n",
       "3  female  35.0      1      0  53.1000        S               1         C   \n",
       "4    male  35.0      0      0   8.0500        S               0         n   \n",
       "\n",
       "   FamilySize  Alone Title  Child  \n",
       "0           2      0    Mr      0  \n",
       "1           2      0   Mrs      0  \n",
       "2           1      1  Miss      0  \n",
       "3           2      0   Mrs      0  \n",
       "4           1      1    Mr      0  "
      ]
     },
     "execution_count": 28,
     "metadata": {},
     "output_type": "execute_result"
    }
   ],
   "source": [
    "full_df.head()"
   ]
  },
  {
   "cell_type": "code",
   "execution_count": 29,
   "id": "a9cfce47",
   "metadata": {
    "execution": {
     "iopub.execute_input": "2022-06-11T02:17:19.358166Z",
     "iopub.status.busy": "2022-06-11T02:17:19.357540Z",
     "iopub.status.idle": "2022-06-11T02:17:19.371942Z",
     "shell.execute_reply": "2022-06-11T02:17:19.371078Z"
    },
    "papermill": {
     "duration": 0.037858,
     "end_time": "2022-06-11T02:17:19.374082",
     "exception": false,
     "start_time": "2022-06-11T02:17:19.336224",
     "status": "completed"
    },
    "tags": []
   },
   "outputs": [],
   "source": [
    "full_df = pd.get_dummies(full_df.drop('Name',axis = 1))"
   ]
  },
  {
   "cell_type": "code",
   "execution_count": 30,
   "id": "4c750f76",
   "metadata": {
    "execution": {
     "iopub.execute_input": "2022-06-11T02:17:19.415520Z",
     "iopub.status.busy": "2022-06-11T02:17:19.414649Z",
     "iopub.status.idle": "2022-06-11T02:17:19.419399Z",
     "shell.execute_reply": "2022-06-11T02:17:19.418719Z"
    },
    "papermill": {
     "duration": 0.027569,
     "end_time": "2022-06-11T02:17:19.421140",
     "exception": false,
     "start_time": "2022-06-11T02:17:19.393571",
     "status": "completed"
    },
    "tags": []
   },
   "outputs": [],
   "source": [
    "df_train = full_df.iloc[:891]\n",
    "df_test = full_df.iloc[891:]"
   ]
  },
  {
   "cell_type": "code",
   "execution_count": 31,
   "id": "59b57963",
   "metadata": {
    "execution": {
     "iopub.execute_input": "2022-06-11T02:17:19.462218Z",
     "iopub.status.busy": "2022-06-11T02:17:19.461547Z",
     "iopub.status.idle": "2022-06-11T02:17:19.469273Z",
     "shell.execute_reply": "2022-06-11T02:17:19.468513Z"
    },
    "papermill": {
     "duration": 0.030612,
     "end_time": "2022-06-11T02:17:19.471116",
     "exception": false,
     "start_time": "2022-06-11T02:17:19.440504",
     "status": "completed"
    },
    "tags": []
   },
   "outputs": [],
   "source": [
    "X_train = df_train.drop('Survived',axis = 1)\n",
    "y_train = df_train['Survived']\n",
    "X_test= df_test.drop('Survived',axis = 1)"
   ]
  },
  {
   "cell_type": "code",
   "execution_count": 32,
   "id": "1008f719",
   "metadata": {
    "execution": {
     "iopub.execute_input": "2022-06-11T02:17:19.512262Z",
     "iopub.status.busy": "2022-06-11T02:17:19.511773Z",
     "iopub.status.idle": "2022-06-11T02:17:19.692322Z",
     "shell.execute_reply": "2022-06-11T02:17:19.691423Z"
    },
    "papermill": {
     "duration": 0.204094,
     "end_time": "2022-06-11T02:17:19.694537",
     "exception": false,
     "start_time": "2022-06-11T02:17:19.490443",
     "status": "completed"
    },
    "tags": []
   },
   "outputs": [],
   "source": [
    "from sklearn.preprocessing import StandardScaler\n",
    "scaler = StandardScaler()\n",
    "scaled_X_train = scaler.fit_transform(X_train)\n",
    "scaled_X_test = scaler.transform(X_test)"
   ]
  },
  {
   "cell_type": "code",
   "execution_count": 33,
   "id": "4bf2038e",
   "metadata": {
    "execution": {
     "iopub.execute_input": "2022-06-11T02:17:19.736833Z",
     "iopub.status.busy": "2022-06-11T02:17:19.736222Z",
     "iopub.status.idle": "2022-06-11T02:17:20.064273Z",
     "shell.execute_reply": "2022-06-11T02:17:20.063532Z"
    },
    "papermill": {
     "duration": 0.352597,
     "end_time": "2022-06-11T02:17:20.066831",
     "exception": false,
     "start_time": "2022-06-11T02:17:19.714234",
     "status": "completed"
    },
    "tags": []
   },
   "outputs": [],
   "source": [
    "from sklearn.model_selection import cross_val_score\n",
    "from sklearn.linear_model import LogisticRegression\n",
    "base_lr = LogisticRegression(max_iter = 3000)\n",
    "from sklearn.svm import SVR\n",
    "base_svm = SVR()\n",
    "from sklearn.neighbors import KNeighborsClassifier\n",
    "base_knn = KNeighborsClassifier()\n",
    "from sklearn.tree import DecisionTreeClassifier\n",
    "base_tree = DecisionTreeClassifier(random_state = 1)\n",
    "from sklearn.ensemble import RandomForestClassifier\n",
    "base_rf = RandomForestClassifier(random_state = 1)\n",
    "from sklearn.naive_bayes import GaussianNB\n",
    "base_gnb = GaussianNB()\n",
    "from sklearn.ensemble import GradientBoostingClassifier\n",
    "base_gbc = GradientBoostingClassifier()\n",
    "from sklearn.ensemble import AdaBoostClassifier\n",
    "base_abc = AdaBoostClassifier()\n",
    "\n",
    "\n",
    "\n",
    "all_base_models = [base_lr,base_rf,base_svm,base_tree,base_knn,base_gnb,base_gbc,base_abc]"
   ]
  },
  {
   "cell_type": "code",
   "execution_count": 34,
   "id": "6da34d36",
   "metadata": {
    "execution": {
     "iopub.execute_input": "2022-06-11T02:17:20.109937Z",
     "iopub.status.busy": "2022-06-11T02:17:20.109411Z",
     "iopub.status.idle": "2022-06-11T02:17:26.356317Z",
     "shell.execute_reply": "2022-06-11T02:17:26.354873Z"
    },
    "papermill": {
     "duration": 6.271239,
     "end_time": "2022-06-11T02:17:26.358782",
     "exception": false,
     "start_time": "2022-06-11T02:17:20.087543",
     "status": "completed"
    },
    "tags": []
   },
   "outputs": [
    {
     "name": "stdout",
     "output_type": "stream",
     "text": [
      "LogisticRegression(max_iter=3000)\n",
      "[0.78888889 0.83146067 0.7752809  0.86516854 0.80898876 0.78651685\n",
      " 0.80898876 0.80898876 0.87640449 0.86516854]\n",
      "0.821585518102372\n",
      "\n",
      "RandomForestClassifier(random_state=1)\n",
      "[0.75555556 0.85393258 0.75280899 0.83146067 0.84269663 0.83146067\n",
      " 0.7752809  0.74157303 0.85393258 0.82022472]\n",
      "0.8058926342072409\n",
      "\n",
      "SVR()\n",
      "[0.31542331 0.3348548  0.22437332 0.52072685 0.44356545 0.41085897\n",
      " 0.35690426 0.34632985 0.61347948 0.51886629]\n",
      "0.4085382573277133\n",
      "\n",
      "DecisionTreeClassifier(random_state=1)\n",
      "[0.73333333 0.80898876 0.69662921 0.80898876 0.78651685 0.79775281\n",
      " 0.83146067 0.75280899 0.84269663 0.79775281]\n",
      "0.7856928838951311\n",
      "\n",
      "KNeighborsClassifier()\n",
      "[0.81111111 0.83146067 0.76404494 0.85393258 0.86516854 0.80898876\n",
      " 0.80898876 0.78651685 0.88764045 0.82022472]\n",
      "0.8238077403245943\n",
      "\n",
      "GaussianNB()\n",
      "[0.62222222 0.68539326 0.68539326 0.75280899 0.80898876 0.7752809\n",
      " 0.78651685 0.70786517 0.73033708 0.70786517]\n",
      "0.726267166042447\n",
      "\n",
      "GradientBoostingClassifier()\n",
      "[0.81111111 0.80898876 0.75280899 0.84269663 0.88764045 0.83146067\n",
      " 0.84269663 0.78651685 0.87640449 0.83146067]\n",
      "0.8271785268414481\n",
      "\n",
      "AdaBoostClassifier()\n",
      "[0.76666667 0.80898876 0.7752809  0.83146067 0.80898876 0.78651685\n",
      " 0.82022472 0.80898876 0.87640449 0.83146067]\n",
      "0.811498127340824\n",
      "\n"
     ]
    }
   ],
   "source": [
    "for model in all_base_models: \n",
    "    cv = cross_val_score(model,scaled_X_train,y_train,cv=10)\n",
    "    print(model)\n",
    "    print(cv)\n",
    "    print(cv.mean())\n",
    "    print()"
   ]
  },
  {
   "cell_type": "code",
   "execution_count": 35,
   "id": "d3dd1379",
   "metadata": {
    "execution": {
     "iopub.execute_input": "2022-06-11T02:17:26.404393Z",
     "iopub.status.busy": "2022-06-11T02:17:26.403481Z",
     "iopub.status.idle": "2022-06-11T02:17:26.407620Z",
     "shell.execute_reply": "2022-06-11T02:17:26.406524Z"
    },
    "papermill": {
     "duration": 0.02889,
     "end_time": "2022-06-11T02:17:26.409603",
     "exception": false,
     "start_time": "2022-06-11T02:17:26.380713",
     "status": "completed"
    },
    "tags": []
   },
   "outputs": [],
   "source": [
    "# Will be grid searching top 3 cross vallers\n",
    "# GradientBoostingClassifier\n",
    "# KNeighborsClassifier\n",
    "# RandomForestClassifier"
   ]
  },
  {
   "cell_type": "code",
   "execution_count": 36,
   "id": "fdda093d",
   "metadata": {
    "execution": {
     "iopub.execute_input": "2022-06-11T02:17:26.456073Z",
     "iopub.status.busy": "2022-06-11T02:17:26.455673Z",
     "iopub.status.idle": "2022-06-11T02:17:26.461816Z",
     "shell.execute_reply": "2022-06-11T02:17:26.461166Z"
    },
    "papermill": {
     "duration": 0.032506,
     "end_time": "2022-06-11T02:17:26.463978",
     "exception": false,
     "start_time": "2022-06-11T02:17:26.431472",
     "status": "completed"
    },
    "tags": []
   },
   "outputs": [],
   "source": [
    "\n",
    "# # Logistic Regression grid\n",
    "# penalty = ['l1','l2','elasticnet']\n",
    "# solver = ['saga','lbfgs']\n",
    "# C = [0.01,0.5,0.75,1,5,10,25]\n",
    "# l1_ratio = [0.01,0.5,1]\n",
    "# param_grid_lr = {'penalty':penalty,'C':C, 'solver':solver, 'l1_ratio':l1_ratio}\n",
    "# Score : 0.75837\n",
    "\n",
    "# # Gradient Boost grid\n",
    "# n_estimators = [1,5,10,20,40,100]\n",
    "# max_depth = [3,4,5,6]\n",
    "# param_grid_gbc = {\"n_estimators\":n_estimators,'max_depth':max_depth}\n",
    "# Score: 0.77272\n",
    "\n",
    "# # KNeighbors grid\n",
    "# k_values = list(range(1,31))\n",
    "# param_grid_knn = {'n_neighbors': k_values}\n",
    "# Score : 0.75119\n",
    "\n",
    "# #Random Forest grid\n",
    "# n_estimators=[64,100,128,200]\n",
    "# max_features= [2,3,4]\n",
    "# bootstrap = [True,False]\n",
    "# oob_score = [True,False]\n",
    "# param_grid_rf = {'n_estimators':n_estimators,'max_features':max_features,'bootstrap':bootstrap,'oob_score':oob_score}\n",
    "# Score: 0.74641\n",
    "\n",
    "\n",
    "# Random Forest grid( copied from top 2% ranking notebook)\n",
    "param_grid_rf = {'n_estimators':[64,128,1100],'max_depth':[5,10,15],'min_samples_split':[2,4,6],'min_samples_leaf':[5,10],'max_features':['auto'],'oob_score':[True],'n_jobs':[-1,1],'verbose':[1]}\n"
   ]
  },
  {
   "cell_type": "code",
   "execution_count": 37,
   "id": "009abdc8",
   "metadata": {
    "execution": {
     "iopub.execute_input": "2022-06-11T02:17:26.508076Z",
     "iopub.status.busy": "2022-06-11T02:17:26.507411Z",
     "iopub.status.idle": "2022-06-11T02:17:26.513680Z",
     "shell.execute_reply": "2022-06-11T02:17:26.512726Z"
    },
    "papermill": {
     "duration": 0.031309,
     "end_time": "2022-06-11T02:17:26.516180",
     "exception": false,
     "start_time": "2022-06-11T02:17:26.484871",
     "status": "completed"
    },
    "tags": []
   },
   "outputs": [],
   "source": [
    "from sklearn.model_selection import GridSearchCV\n",
    "# grid_lr_model = GridSearchCV(base_lr,param_grid_lr,cv = 5, verbose = 0)\n",
    "# grid_gbc_model = GridSearchCV(base_gbc,param_grid_gbc,cv = 10, verbose = 0)\n",
    "# grid_knn_model = GridSearchCV(base_knn,param_grid_knn,cv = 5, verbose = 0)\n",
    "# grid_rf_model = GridSearchCV(base_rf,param_grid_rf)\n",
    "# # top 2% model\n",
    "top_model = RandomForestClassifier(bootstrap= True,ccp_alpha= 0.0, class_weight= None,criterion = 'gini',max_depth= 10,max_features= 'auto',max_leaf_nodes= None,max_samples= None,min_impurity_decrease=  0.0,min_samples_leaf= 5,min_samples_split= 2,min_weight_fraction_leaf= 0.0,n_estimators= 1100,\n",
    "n_jobs= -1,oob_score= True,random_state= 1,verbose= 1,warm_start=  False)"
   ]
  },
  {
   "cell_type": "code",
   "execution_count": 38,
   "id": "cd0904be",
   "metadata": {
    "execution": {
     "iopub.execute_input": "2022-06-11T02:17:26.559327Z",
     "iopub.status.busy": "2022-06-11T02:17:26.558905Z",
     "iopub.status.idle": "2022-06-11T02:17:30.719891Z",
     "shell.execute_reply": "2022-06-11T02:17:30.718773Z"
    },
    "papermill": {
     "duration": 4.185546,
     "end_time": "2022-06-11T02:17:30.722641",
     "exception": false,
     "start_time": "2022-06-11T02:17:26.537095",
     "status": "completed"
    },
    "tags": []
   },
   "outputs": [
    {
     "name": "stderr",
     "output_type": "stream",
     "text": [
      "[Parallel(n_jobs=-1)]: Using backend ThreadingBackend with 4 concurrent workers.\n",
      "[Parallel(n_jobs=-1)]: Done  42 tasks      | elapsed:    0.1s\n",
      "[Parallel(n_jobs=-1)]: Done 192 tasks      | elapsed:    0.5s\n",
      "[Parallel(n_jobs=-1)]: Done 442 tasks      | elapsed:    1.2s\n",
      "[Parallel(n_jobs=-1)]: Done 792 tasks      | elapsed:    2.1s\n",
      "[Parallel(n_jobs=-1)]: Done 1100 out of 1100 | elapsed:    2.9s finished\n"
     ]
    },
    {
     "data": {
      "text/plain": [
       "RandomForestClassifier(max_depth=10, min_samples_leaf=5, n_estimators=1100,\n",
       "                       n_jobs=-1, oob_score=True, random_state=1, verbose=1)"
      ]
     },
     "execution_count": 38,
     "metadata": {},
     "output_type": "execute_result"
    }
   ],
   "source": [
    "# grid_lr_model.fit(scaled_X_train,y_train)\n",
    "# grid_gbc_model.fit(scaled_X_train,y_train)\n",
    "# grid_knn_model.fit(scaled_X_train,y_train)\n",
    "# grid_rf_model.fit(scaled_X_train,y_train)\n",
    "top_model.fit(scaled_X_train,y_train)"
   ]
  },
  {
   "cell_type": "code",
   "execution_count": 39,
   "id": "53f7e9fb",
   "metadata": {
    "execution": {
     "iopub.execute_input": "2022-06-11T02:17:30.768699Z",
     "iopub.status.busy": "2022-06-11T02:17:30.768296Z",
     "iopub.status.idle": "2022-06-11T02:17:30.773243Z",
     "shell.execute_reply": "2022-06-11T02:17:30.772197Z"
    },
    "papermill": {
     "duration": 0.031315,
     "end_time": "2022-06-11T02:17:30.775545",
     "exception": false,
     "start_time": "2022-06-11T02:17:30.744230",
     "status": "completed"
    },
    "tags": []
   },
   "outputs": [],
   "source": [
    "# best_params = grid_lr_model.best_estimator_.get_params()\n",
    "# best_params = grid_gbc_model.best_estimator_.get_params()\n",
    "# best_params = grid_knn_model.best_estimator_.get_params()\n",
    "# best_params = grid_rf_model.best_estimator_.get_params()\n",
    "# best_params"
   ]
  },
  {
   "cell_type": "code",
   "execution_count": 40,
   "id": "15cf5f5f",
   "metadata": {
    "execution": {
     "iopub.execute_input": "2022-06-11T02:17:30.820767Z",
     "iopub.status.busy": "2022-06-11T02:17:30.819851Z",
     "iopub.status.idle": "2022-06-11T02:17:31.329629Z",
     "shell.execute_reply": "2022-06-11T02:17:31.328778Z"
    },
    "papermill": {
     "duration": 0.534931,
     "end_time": "2022-06-11T02:17:31.332067",
     "exception": false,
     "start_time": "2022-06-11T02:17:30.797136",
     "status": "completed"
    },
    "tags": []
   },
   "outputs": [
    {
     "name": "stderr",
     "output_type": "stream",
     "text": [
      "[Parallel(n_jobs=4)]: Using backend ThreadingBackend with 4 concurrent workers.\n",
      "[Parallel(n_jobs=4)]: Done  42 tasks      | elapsed:    0.0s\n",
      "[Parallel(n_jobs=4)]: Done 192 tasks      | elapsed:    0.1s\n",
      "[Parallel(n_jobs=4)]: Done 442 tasks      | elapsed:    0.2s\n",
      "[Parallel(n_jobs=4)]: Done 792 tasks      | elapsed:    0.3s\n",
      "[Parallel(n_jobs=4)]: Done 1100 out of 1100 | elapsed:    0.4s finished\n"
     ]
    }
   ],
   "source": [
    "# predictions = grid_lr_model.predict(scaled_X_test)\n",
    "# predictions = grid_gbc_model.predict(scaled_X_test)\n",
    "# predictions = grid_knn_model.predict(scaled_X_test)\n",
    "# predictions = grid_rf_model.predict(scaled_X_test)\n",
    "predictions = top_model.predict(scaled_X_test)"
   ]
  },
  {
   "cell_type": "code",
   "execution_count": 41,
   "id": "468a3c50",
   "metadata": {
    "execution": {
     "iopub.execute_input": "2022-06-11T02:17:31.376326Z",
     "iopub.status.busy": "2022-06-11T02:17:31.375832Z",
     "iopub.status.idle": "2022-06-11T02:17:31.383661Z",
     "shell.execute_reply": "2022-06-11T02:17:31.382537Z"
    },
    "papermill": {
     "duration": 0.032162,
     "end_time": "2022-06-11T02:17:31.385825",
     "exception": false,
     "start_time": "2022-06-11T02:17:31.353663",
     "status": "completed"
    },
    "tags": []
   },
   "outputs": [
    {
     "data": {
      "text/plain": [
       "array([0, 1, 0])"
      ]
     },
     "execution_count": 41,
     "metadata": {},
     "output_type": "execute_result"
    }
   ],
   "source": [
    "predictions = predictions.astype(int)\n",
    "predictions[:3]"
   ]
  },
  {
   "cell_type": "code",
   "execution_count": 42,
   "id": "9bd7ac9f",
   "metadata": {
    "execution": {
     "iopub.execute_input": "2022-06-11T02:17:31.429890Z",
     "iopub.status.busy": "2022-06-11T02:17:31.429401Z",
     "iopub.status.idle": "2022-06-11T02:17:31.435535Z",
     "shell.execute_reply": "2022-06-11T02:17:31.434470Z"
    },
    "papermill": {
     "duration": 0.030924,
     "end_time": "2022-06-11T02:17:31.438106",
     "exception": false,
     "start_time": "2022-06-11T02:17:31.407182",
     "status": "completed"
    },
    "tags": []
   },
   "outputs": [],
   "source": [
    "submission = pd.DataFrame(data=predictions,columns = ['Survived'])"
   ]
  },
  {
   "cell_type": "code",
   "execution_count": 43,
   "id": "3e6b066d",
   "metadata": {
    "execution": {
     "iopub.execute_input": "2022-06-11T02:17:31.483614Z",
     "iopub.status.busy": "2022-06-11T02:17:31.482774Z",
     "iopub.status.idle": "2022-06-11T02:17:31.493447Z",
     "shell.execute_reply": "2022-06-11T02:17:31.492458Z"
    },
    "papermill": {
     "duration": 0.036115,
     "end_time": "2022-06-11T02:17:31.495760",
     "exception": false,
     "start_time": "2022-06-11T02:17:31.459645",
     "status": "completed"
    },
    "tags": []
   },
   "outputs": [],
   "source": [
    "df_test_passenger = pd.read_csv('/kaggle/input/titanic/test.csv')"
   ]
  },
  {
   "cell_type": "code",
   "execution_count": 44,
   "id": "7224e89d",
   "metadata": {
    "execution": {
     "iopub.execute_input": "2022-06-11T02:17:31.540751Z",
     "iopub.status.busy": "2022-06-11T02:17:31.540350Z",
     "iopub.status.idle": "2022-06-11T02:17:31.547075Z",
     "shell.execute_reply": "2022-06-11T02:17:31.546014Z"
    },
    "papermill": {
     "duration": 0.031756,
     "end_time": "2022-06-11T02:17:31.549345",
     "exception": false,
     "start_time": "2022-06-11T02:17:31.517589",
     "status": "completed"
    },
    "tags": []
   },
   "outputs": [],
   "source": [
    "submission['PassengerId']=df_test_passenger['PassengerId']"
   ]
  },
  {
   "cell_type": "code",
   "execution_count": 45,
   "id": "1b84ea6f",
   "metadata": {
    "execution": {
     "iopub.execute_input": "2022-06-11T02:17:31.593137Z",
     "iopub.status.busy": "2022-06-11T02:17:31.592661Z",
     "iopub.status.idle": "2022-06-11T02:17:31.603810Z",
     "shell.execute_reply": "2022-06-11T02:17:31.602705Z"
    },
    "papermill": {
     "duration": 0.035405,
     "end_time": "2022-06-11T02:17:31.605870",
     "exception": false,
     "start_time": "2022-06-11T02:17:31.570465",
     "status": "completed"
    },
    "tags": []
   },
   "outputs": [
    {
     "data": {
      "text/html": [
       "<div>\n",
       "<style scoped>\n",
       "    .dataframe tbody tr th:only-of-type {\n",
       "        vertical-align: middle;\n",
       "    }\n",
       "\n",
       "    .dataframe tbody tr th {\n",
       "        vertical-align: top;\n",
       "    }\n",
       "\n",
       "    .dataframe thead th {\n",
       "        text-align: right;\n",
       "    }\n",
       "</style>\n",
       "<table border=\"1\" class=\"dataframe\">\n",
       "  <thead>\n",
       "    <tr style=\"text-align: right;\">\n",
       "      <th></th>\n",
       "      <th>Survived</th>\n",
       "      <th>PassengerId</th>\n",
       "    </tr>\n",
       "  </thead>\n",
       "  <tbody>\n",
       "    <tr>\n",
       "      <th>0</th>\n",
       "      <td>0</td>\n",
       "      <td>892</td>\n",
       "    </tr>\n",
       "    <tr>\n",
       "      <th>1</th>\n",
       "      <td>1</td>\n",
       "      <td>893</td>\n",
       "    </tr>\n",
       "    <tr>\n",
       "      <th>2</th>\n",
       "      <td>0</td>\n",
       "      <td>894</td>\n",
       "    </tr>\n",
       "    <tr>\n",
       "      <th>3</th>\n",
       "      <td>0</td>\n",
       "      <td>895</td>\n",
       "    </tr>\n",
       "    <tr>\n",
       "      <th>4</th>\n",
       "      <td>1</td>\n",
       "      <td>896</td>\n",
       "    </tr>\n",
       "  </tbody>\n",
       "</table>\n",
       "</div>"
      ],
      "text/plain": [
       "   Survived  PassengerId\n",
       "0         0          892\n",
       "1         1          893\n",
       "2         0          894\n",
       "3         0          895\n",
       "4         1          896"
      ]
     },
     "execution_count": 45,
     "metadata": {},
     "output_type": "execute_result"
    }
   ],
   "source": [
    "submission.head()"
   ]
  },
  {
   "cell_type": "code",
   "execution_count": 46,
   "id": "8b355017",
   "metadata": {
    "execution": {
     "iopub.execute_input": "2022-06-11T02:17:31.649623Z",
     "iopub.status.busy": "2022-06-11T02:17:31.649228Z",
     "iopub.status.idle": "2022-06-11T02:17:31.664045Z",
     "shell.execute_reply": "2022-06-11T02:17:31.662806Z"
    },
    "papermill": {
     "duration": 0.039543,
     "end_time": "2022-06-11T02:17:31.666294",
     "exception": false,
     "start_time": "2022-06-11T02:17:31.626751",
     "status": "completed"
    },
    "tags": []
   },
   "outputs": [
    {
     "data": {
      "text/html": [
       "<div>\n",
       "<style scoped>\n",
       "    .dataframe tbody tr th:only-of-type {\n",
       "        vertical-align: middle;\n",
       "    }\n",
       "\n",
       "    .dataframe tbody tr th {\n",
       "        vertical-align: top;\n",
       "    }\n",
       "\n",
       "    .dataframe thead th {\n",
       "        text-align: right;\n",
       "    }\n",
       "</style>\n",
       "<table border=\"1\" class=\"dataframe\">\n",
       "  <thead>\n",
       "    <tr style=\"text-align: right;\">\n",
       "      <th></th>\n",
       "      <th>PassengerId</th>\n",
       "      <th>Survived</th>\n",
       "    </tr>\n",
       "  </thead>\n",
       "  <tbody>\n",
       "    <tr>\n",
       "      <th>0</th>\n",
       "      <td>892</td>\n",
       "      <td>0</td>\n",
       "    </tr>\n",
       "    <tr>\n",
       "      <th>1</th>\n",
       "      <td>893</td>\n",
       "      <td>1</td>\n",
       "    </tr>\n",
       "    <tr>\n",
       "      <th>2</th>\n",
       "      <td>894</td>\n",
       "      <td>0</td>\n",
       "    </tr>\n",
       "    <tr>\n",
       "      <th>3</th>\n",
       "      <td>895</td>\n",
       "      <td>0</td>\n",
       "    </tr>\n",
       "    <tr>\n",
       "      <th>4</th>\n",
       "      <td>896</td>\n",
       "      <td>1</td>\n",
       "    </tr>\n",
       "  </tbody>\n",
       "</table>\n",
       "</div>"
      ],
      "text/plain": [
       "   PassengerId  Survived\n",
       "0          892         0\n",
       "1          893         1\n",
       "2          894         0\n",
       "3          895         0\n",
       "4          896         1"
      ]
     },
     "execution_count": 46,
     "metadata": {},
     "output_type": "execute_result"
    }
   ],
   "source": [
    "trial = pd.read_csv('/kaggle/input/titanic/gender_submission.csv')\n",
    "trial.head()"
   ]
  },
  {
   "cell_type": "code",
   "execution_count": 47,
   "id": "67f461a3",
   "metadata": {
    "execution": {
     "iopub.execute_input": "2022-06-11T02:17:31.710555Z",
     "iopub.status.busy": "2022-06-11T02:17:31.709954Z",
     "iopub.status.idle": "2022-06-11T02:17:31.718737Z",
     "shell.execute_reply": "2022-06-11T02:17:31.717398Z"
    },
    "papermill": {
     "duration": 0.033773,
     "end_time": "2022-06-11T02:17:31.721495",
     "exception": false,
     "start_time": "2022-06-11T02:17:31.687722",
     "status": "completed"
    },
    "tags": []
   },
   "outputs": [
    {
     "data": {
      "text/plain": [
       "0    274\n",
       "1    144\n",
       "Name: Survived, dtype: int64"
      ]
     },
     "execution_count": 47,
     "metadata": {},
     "output_type": "execute_result"
    }
   ],
   "source": [
    "submission['Survived'].value_counts()"
   ]
  },
  {
   "cell_type": "code",
   "execution_count": 48,
   "id": "1fd47be2",
   "metadata": {
    "execution": {
     "iopub.execute_input": "2022-06-11T02:17:31.768745Z",
     "iopub.status.busy": "2022-06-11T02:17:31.768196Z",
     "iopub.status.idle": "2022-06-11T02:17:31.772293Z",
     "shell.execute_reply": "2022-06-11T02:17:31.771653Z"
    },
    "papermill": {
     "duration": 0.029672,
     "end_time": "2022-06-11T02:17:31.774092",
     "exception": false,
     "start_time": "2022-06-11T02:17:31.744420",
     "status": "completed"
    },
    "tags": []
   },
   "outputs": [],
   "source": [
    "submission = submission.iloc[:, ::-1]"
   ]
  },
  {
   "cell_type": "code",
   "execution_count": 49,
   "id": "b6bad942",
   "metadata": {
    "execution": {
     "iopub.execute_input": "2022-06-11T02:17:31.820166Z",
     "iopub.status.busy": "2022-06-11T02:17:31.819736Z",
     "iopub.status.idle": "2022-06-11T02:17:31.829101Z",
     "shell.execute_reply": "2022-06-11T02:17:31.827970Z"
    },
    "papermill": {
     "duration": 0.035084,
     "end_time": "2022-06-11T02:17:31.831217",
     "exception": false,
     "start_time": "2022-06-11T02:17:31.796133",
     "status": "completed"
    },
    "tags": []
   },
   "outputs": [
    {
     "data": {
      "text/html": [
       "<div>\n",
       "<style scoped>\n",
       "    .dataframe tbody tr th:only-of-type {\n",
       "        vertical-align: middle;\n",
       "    }\n",
       "\n",
       "    .dataframe tbody tr th {\n",
       "        vertical-align: top;\n",
       "    }\n",
       "\n",
       "    .dataframe thead th {\n",
       "        text-align: right;\n",
       "    }\n",
       "</style>\n",
       "<table border=\"1\" class=\"dataframe\">\n",
       "  <thead>\n",
       "    <tr style=\"text-align: right;\">\n",
       "      <th></th>\n",
       "      <th>PassengerId</th>\n",
       "      <th>Survived</th>\n",
       "    </tr>\n",
       "  </thead>\n",
       "  <tbody>\n",
       "    <tr>\n",
       "      <th>0</th>\n",
       "      <td>892</td>\n",
       "      <td>0</td>\n",
       "    </tr>\n",
       "    <tr>\n",
       "      <th>1</th>\n",
       "      <td>893</td>\n",
       "      <td>1</td>\n",
       "    </tr>\n",
       "    <tr>\n",
       "      <th>2</th>\n",
       "      <td>894</td>\n",
       "      <td>0</td>\n",
       "    </tr>\n",
       "    <tr>\n",
       "      <th>3</th>\n",
       "      <td>895</td>\n",
       "      <td>0</td>\n",
       "    </tr>\n",
       "    <tr>\n",
       "      <th>4</th>\n",
       "      <td>896</td>\n",
       "      <td>1</td>\n",
       "    </tr>\n",
       "  </tbody>\n",
       "</table>\n",
       "</div>"
      ],
      "text/plain": [
       "   PassengerId  Survived\n",
       "0          892         0\n",
       "1          893         1\n",
       "2          894         0\n",
       "3          895         0\n",
       "4          896         1"
      ]
     },
     "execution_count": 49,
     "metadata": {},
     "output_type": "execute_result"
    }
   ],
   "source": [
    "submission.head()"
   ]
  },
  {
   "cell_type": "code",
   "execution_count": 50,
   "id": "142b2e27",
   "metadata": {
    "execution": {
     "iopub.execute_input": "2022-06-11T02:17:31.877565Z",
     "iopub.status.busy": "2022-06-11T02:17:31.877169Z",
     "iopub.status.idle": "2022-06-11T02:17:31.885847Z",
     "shell.execute_reply": "2022-06-11T02:17:31.884663Z"
    },
    "papermill": {
     "duration": 0.034893,
     "end_time": "2022-06-11T02:17:31.888390",
     "exception": false,
     "start_time": "2022-06-11T02:17:31.853497",
     "status": "completed"
    },
    "tags": []
   },
   "outputs": [],
   "source": [
    "submission.to_csv('submission.csv',index = False)"
   ]
  },
  {
   "cell_type": "code",
   "execution_count": 51,
   "id": "dd17f45c",
   "metadata": {
    "execution": {
     "iopub.execute_input": "2022-06-11T02:17:31.935230Z",
     "iopub.status.busy": "2022-06-11T02:17:31.934780Z",
     "iopub.status.idle": "2022-06-11T02:17:31.943536Z",
     "shell.execute_reply": "2022-06-11T02:17:31.942328Z"
    },
    "papermill": {
     "duration": 0.035166,
     "end_time": "2022-06-11T02:17:31.946133",
     "exception": false,
     "start_time": "2022-06-11T02:17:31.910967",
     "status": "completed"
    },
    "tags": []
   },
   "outputs": [],
   "source": [
    "f = pd.read_csv('submission.csv')"
   ]
  },
  {
   "cell_type": "code",
   "execution_count": 52,
   "id": "e961eb48",
   "metadata": {
    "execution": {
     "iopub.execute_input": "2022-06-11T02:17:31.993026Z",
     "iopub.status.busy": "2022-06-11T02:17:31.992574Z",
     "iopub.status.idle": "2022-06-11T02:17:32.003198Z",
     "shell.execute_reply": "2022-06-11T02:17:32.001794Z"
    },
    "papermill": {
     "duration": 0.036977,
     "end_time": "2022-06-11T02:17:32.005819",
     "exception": false,
     "start_time": "2022-06-11T02:17:31.968842",
     "status": "completed"
    },
    "tags": []
   },
   "outputs": [
    {
     "data": {
      "text/html": [
       "<div>\n",
       "<style scoped>\n",
       "    .dataframe tbody tr th:only-of-type {\n",
       "        vertical-align: middle;\n",
       "    }\n",
       "\n",
       "    .dataframe tbody tr th {\n",
       "        vertical-align: top;\n",
       "    }\n",
       "\n",
       "    .dataframe thead th {\n",
       "        text-align: right;\n",
       "    }\n",
       "</style>\n",
       "<table border=\"1\" class=\"dataframe\">\n",
       "  <thead>\n",
       "    <tr style=\"text-align: right;\">\n",
       "      <th></th>\n",
       "      <th>PassengerId</th>\n",
       "      <th>Survived</th>\n",
       "    </tr>\n",
       "  </thead>\n",
       "  <tbody>\n",
       "    <tr>\n",
       "      <th>0</th>\n",
       "      <td>892</td>\n",
       "      <td>0</td>\n",
       "    </tr>\n",
       "    <tr>\n",
       "      <th>1</th>\n",
       "      <td>893</td>\n",
       "      <td>1</td>\n",
       "    </tr>\n",
       "    <tr>\n",
       "      <th>2</th>\n",
       "      <td>894</td>\n",
       "      <td>0</td>\n",
       "    </tr>\n",
       "    <tr>\n",
       "      <th>3</th>\n",
       "      <td>895</td>\n",
       "      <td>0</td>\n",
       "    </tr>\n",
       "    <tr>\n",
       "      <th>4</th>\n",
       "      <td>896</td>\n",
       "      <td>1</td>\n",
       "    </tr>\n",
       "  </tbody>\n",
       "</table>\n",
       "</div>"
      ],
      "text/plain": [
       "   PassengerId  Survived\n",
       "0          892         0\n",
       "1          893         1\n",
       "2          894         0\n",
       "3          895         0\n",
       "4          896         1"
      ]
     },
     "execution_count": 52,
     "metadata": {},
     "output_type": "execute_result"
    }
   ],
   "source": [
    "f.head()"
   ]
  },
  {
   "cell_type": "code",
   "execution_count": null,
   "id": "794139e8",
   "metadata": {
    "papermill": {
     "duration": 0.023121,
     "end_time": "2022-06-11T02:17:32.053302",
     "exception": false,
     "start_time": "2022-06-11T02:17:32.030181",
     "status": "completed"
    },
    "tags": []
   },
   "outputs": [],
   "source": []
  },
  {
   "cell_type": "code",
   "execution_count": null,
   "id": "dfd71514",
   "metadata": {
    "papermill": {
     "duration": 0.022301,
     "end_time": "2022-06-11T02:17:32.098307",
     "exception": false,
     "start_time": "2022-06-11T02:17:32.076006",
     "status": "completed"
    },
    "tags": []
   },
   "outputs": [],
   "source": []
  }
 ],
 "metadata": {
  "kernelspec": {
   "display_name": "Python 3",
   "language": "python",
   "name": "python3"
  },
  "language_info": {
   "codemirror_mode": {
    "name": "ipython",
    "version": 3
   },
   "file_extension": ".py",
   "mimetype": "text/x-python",
   "name": "python",
   "nbconvert_exporter": "python",
   "pygments_lexer": "ipython3",
   "version": "3.7.12"
  },
  "papermill": {
   "default_parameters": {},
   "duration": 39.536936,
   "end_time": "2022-06-11T02:17:33.046533",
   "environment_variables": {},
   "exception": null,
   "input_path": "__notebook__.ipynb",
   "output_path": "__notebook__.ipynb",
   "parameters": {},
   "start_time": "2022-06-11T02:16:53.509597",
   "version": "2.3.4"
  }
 },
 "nbformat": 4,
 "nbformat_minor": 5
}
