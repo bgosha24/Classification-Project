{
 "cells": [
  {
   "cell_type": "code",
   "execution_count": 1,
   "id": "be93d35b",
   "metadata": {
    "_cell_guid": "b1076dfc-b9ad-4769-8c92-a6c4dae69d19",
    "_uuid": "8f2839f25d086af736a60e9eeb907d3b93b6e0e5",
    "execution": {
     "iopub.execute_input": "2022-06-05T05:19:15.949055Z",
     "iopub.status.busy": "2022-06-05T05:19:15.948221Z",
     "iopub.status.idle": "2022-06-05T05:19:15.961039Z",
     "shell.execute_reply": "2022-06-05T05:19:15.960349Z"
    },
    "papermill": {
     "duration": 0.021511,
     "end_time": "2022-06-05T05:19:15.963589",
     "exception": false,
     "start_time": "2022-06-05T05:19:15.942078",
     "status": "completed"
    },
    "tags": []
   },
   "outputs": [
    {
     "name": "stdout",
     "output_type": "stream",
     "text": [
      "/kaggle/input/titanic/train.csv\n",
      "/kaggle/input/titanic/test.csv\n",
      "/kaggle/input/titanic/gender_submission.csv\n"
     ]
    }
   ],
   "source": [
    "# This Python 3 environment comes with many helpful analytics libraries installed\n",
    "# It is defined by the kaggle/python Docker image: https://github.com/kaggle/docker-python\n",
    "# For example, here's several helpful packages to load\n",
    "\n",
    "import numpy as np # linear algebra\n",
    "import pandas as pd # data processing, CSV file I/O (e.g. pd.read_csv)\n",
    "\n",
    "# Input data files are available in the read-only \"../input/\" directory\n",
    "# For example, running this (by clicking run or pressing Shift+Enter) will list all files under the input directory\n",
    "\n",
    "import os\n",
    "for dirname, _, filenames in os.walk('/kaggle/input'):\n",
    "    for filename in filenames:\n",
    "        print(os.path.join(dirname, filename))\n",
    "\n",
    "# You can write up to 20GB to the current directory (/kaggle/working/) that gets preserved as output when you create a version using \"Save & Run All\" \n",
    "# You can also write temporary files to /kaggle/temp/, but they won't be saved outside of the current session"
   ]
  },
  {
   "cell_type": "code",
   "execution_count": 2,
   "id": "cd5b06bf",
   "metadata": {
    "execution": {
     "iopub.execute_input": "2022-06-05T05:19:15.975463Z",
     "iopub.status.busy": "2022-06-05T05:19:15.974848Z",
     "iopub.status.idle": "2022-06-05T05:19:16.978558Z",
     "shell.execute_reply": "2022-06-05T05:19:16.977812Z"
    },
    "papermill": {
     "duration": 1.010622,
     "end_time": "2022-06-05T05:19:16.980822",
     "exception": false,
     "start_time": "2022-06-05T05:19:15.970200",
     "status": "completed"
    },
    "tags": []
   },
   "outputs": [],
   "source": [
    "import seaborn as sns\n",
    "import matplotlib.pyplot as plt"
   ]
  },
  {
   "cell_type": "code",
   "execution_count": 3,
   "id": "d672063d",
   "metadata": {
    "execution": {
     "iopub.execute_input": "2022-06-05T05:19:16.990342Z",
     "iopub.status.busy": "2022-06-05T05:19:16.989342Z",
     "iopub.status.idle": "2022-06-05T05:19:17.025304Z",
     "shell.execute_reply": "2022-06-05T05:19:17.024225Z"
    },
    "papermill": {
     "duration": 0.043121,
     "end_time": "2022-06-05T05:19:17.027654",
     "exception": false,
     "start_time": "2022-06-05T05:19:16.984533",
     "status": "completed"
    },
    "tags": []
   },
   "outputs": [],
   "source": [
    "df = pd.read_csv('/kaggle/input/titanic/train.csv')\n",
    "df_test = pd.read_csv('/kaggle/input/titanic/test.csv')\n",
    "X_train = df.drop('Survived',axis =1 )\n",
    "y_train = df['Survived']"
   ]
  },
  {
   "cell_type": "code",
   "execution_count": 4,
   "id": "31dde035",
   "metadata": {
    "execution": {
     "iopub.execute_input": "2022-06-05T05:19:17.036557Z",
     "iopub.status.busy": "2022-06-05T05:19:17.035941Z",
     "iopub.status.idle": "2022-06-05T05:19:17.056461Z",
     "shell.execute_reply": "2022-06-05T05:19:17.055502Z"
    },
    "papermill": {
     "duration": 0.027363,
     "end_time": "2022-06-05T05:19:17.058735",
     "exception": false,
     "start_time": "2022-06-05T05:19:17.031372",
     "status": "completed"
    },
    "tags": []
   },
   "outputs": [
    {
     "name": "stdout",
     "output_type": "stream",
     "text": [
      "<class 'pandas.core.frame.DataFrame'>\n",
      "RangeIndex: 891 entries, 0 to 890\n",
      "Data columns (total 12 columns):\n",
      " #   Column       Non-Null Count  Dtype  \n",
      "---  ------       --------------  -----  \n",
      " 0   PassengerId  891 non-null    int64  \n",
      " 1   Survived     891 non-null    int64  \n",
      " 2   Pclass       891 non-null    int64  \n",
      " 3   Name         891 non-null    object \n",
      " 4   Sex          891 non-null    object \n",
      " 5   Age          714 non-null    float64\n",
      " 6   SibSp        891 non-null    int64  \n",
      " 7   Parch        891 non-null    int64  \n",
      " 8   Ticket       891 non-null    object \n",
      " 9   Fare         891 non-null    float64\n",
      " 10  Cabin        204 non-null    object \n",
      " 11  Embarked     889 non-null    object \n",
      "dtypes: float64(2), int64(5), object(5)\n",
      "memory usage: 83.7+ KB\n"
     ]
    }
   ],
   "source": [
    "df.info()"
   ]
  },
  {
   "cell_type": "code",
   "execution_count": 5,
   "id": "007af820",
   "metadata": {
    "execution": {
     "iopub.execute_input": "2022-06-05T05:19:17.067966Z",
     "iopub.status.busy": "2022-06-05T05:19:17.067238Z",
     "iopub.status.idle": "2022-06-05T05:19:17.104505Z",
     "shell.execute_reply": "2022-06-05T05:19:17.103577Z"
    },
    "papermill": {
     "duration": 0.044064,
     "end_time": "2022-06-05T05:19:17.106547",
     "exception": false,
     "start_time": "2022-06-05T05:19:17.062483",
     "status": "completed"
    },
    "tags": []
   },
   "outputs": [
    {
     "data": {
      "text/html": [
       "<div>\n",
       "<style scoped>\n",
       "    .dataframe tbody tr th:only-of-type {\n",
       "        vertical-align: middle;\n",
       "    }\n",
       "\n",
       "    .dataframe tbody tr th {\n",
       "        vertical-align: top;\n",
       "    }\n",
       "\n",
       "    .dataframe thead th {\n",
       "        text-align: right;\n",
       "    }\n",
       "</style>\n",
       "<table border=\"1\" class=\"dataframe\">\n",
       "  <thead>\n",
       "    <tr style=\"text-align: right;\">\n",
       "      <th></th>\n",
       "      <th>PassengerId</th>\n",
       "      <th>Survived</th>\n",
       "      <th>Pclass</th>\n",
       "      <th>Age</th>\n",
       "      <th>SibSp</th>\n",
       "      <th>Parch</th>\n",
       "      <th>Fare</th>\n",
       "    </tr>\n",
       "  </thead>\n",
       "  <tbody>\n",
       "    <tr>\n",
       "      <th>count</th>\n",
       "      <td>891.000000</td>\n",
       "      <td>891.000000</td>\n",
       "      <td>891.000000</td>\n",
       "      <td>714.000000</td>\n",
       "      <td>891.000000</td>\n",
       "      <td>891.000000</td>\n",
       "      <td>891.000000</td>\n",
       "    </tr>\n",
       "    <tr>\n",
       "      <th>mean</th>\n",
       "      <td>446.000000</td>\n",
       "      <td>0.383838</td>\n",
       "      <td>2.308642</td>\n",
       "      <td>29.699118</td>\n",
       "      <td>0.523008</td>\n",
       "      <td>0.381594</td>\n",
       "      <td>32.204208</td>\n",
       "    </tr>\n",
       "    <tr>\n",
       "      <th>std</th>\n",
       "      <td>257.353842</td>\n",
       "      <td>0.486592</td>\n",
       "      <td>0.836071</td>\n",
       "      <td>14.526497</td>\n",
       "      <td>1.102743</td>\n",
       "      <td>0.806057</td>\n",
       "      <td>49.693429</td>\n",
       "    </tr>\n",
       "    <tr>\n",
       "      <th>min</th>\n",
       "      <td>1.000000</td>\n",
       "      <td>0.000000</td>\n",
       "      <td>1.000000</td>\n",
       "      <td>0.420000</td>\n",
       "      <td>0.000000</td>\n",
       "      <td>0.000000</td>\n",
       "      <td>0.000000</td>\n",
       "    </tr>\n",
       "    <tr>\n",
       "      <th>25%</th>\n",
       "      <td>223.500000</td>\n",
       "      <td>0.000000</td>\n",
       "      <td>2.000000</td>\n",
       "      <td>20.125000</td>\n",
       "      <td>0.000000</td>\n",
       "      <td>0.000000</td>\n",
       "      <td>7.910400</td>\n",
       "    </tr>\n",
       "    <tr>\n",
       "      <th>50%</th>\n",
       "      <td>446.000000</td>\n",
       "      <td>0.000000</td>\n",
       "      <td>3.000000</td>\n",
       "      <td>28.000000</td>\n",
       "      <td>0.000000</td>\n",
       "      <td>0.000000</td>\n",
       "      <td>14.454200</td>\n",
       "    </tr>\n",
       "    <tr>\n",
       "      <th>75%</th>\n",
       "      <td>668.500000</td>\n",
       "      <td>1.000000</td>\n",
       "      <td>3.000000</td>\n",
       "      <td>38.000000</td>\n",
       "      <td>1.000000</td>\n",
       "      <td>0.000000</td>\n",
       "      <td>31.000000</td>\n",
       "    </tr>\n",
       "    <tr>\n",
       "      <th>max</th>\n",
       "      <td>891.000000</td>\n",
       "      <td>1.000000</td>\n",
       "      <td>3.000000</td>\n",
       "      <td>80.000000</td>\n",
       "      <td>8.000000</td>\n",
       "      <td>6.000000</td>\n",
       "      <td>512.329200</td>\n",
       "    </tr>\n",
       "  </tbody>\n",
       "</table>\n",
       "</div>"
      ],
      "text/plain": [
       "       PassengerId    Survived      Pclass         Age       SibSp  \\\n",
       "count   891.000000  891.000000  891.000000  714.000000  891.000000   \n",
       "mean    446.000000    0.383838    2.308642   29.699118    0.523008   \n",
       "std     257.353842    0.486592    0.836071   14.526497    1.102743   \n",
       "min       1.000000    0.000000    1.000000    0.420000    0.000000   \n",
       "25%     223.500000    0.000000    2.000000   20.125000    0.000000   \n",
       "50%     446.000000    0.000000    3.000000   28.000000    0.000000   \n",
       "75%     668.500000    1.000000    3.000000   38.000000    1.000000   \n",
       "max     891.000000    1.000000    3.000000   80.000000    8.000000   \n",
       "\n",
       "            Parch        Fare  \n",
       "count  891.000000  891.000000  \n",
       "mean     0.381594   32.204208  \n",
       "std      0.806057   49.693429  \n",
       "min      0.000000    0.000000  \n",
       "25%      0.000000    7.910400  \n",
       "50%      0.000000   14.454200  \n",
       "75%      0.000000   31.000000  \n",
       "max      6.000000  512.329200  "
      ]
     },
     "execution_count": 5,
     "metadata": {},
     "output_type": "execute_result"
    }
   ],
   "source": [
    "df.describe()"
   ]
  },
  {
   "cell_type": "markdown",
   "id": "54e13d6d",
   "metadata": {
    "papermill": {
     "duration": 0.003672,
     "end_time": "2022-06-05T05:19:17.114228",
     "exception": false,
     "start_time": "2022-06-05T05:19:17.110556",
     "status": "completed"
    },
    "tags": []
   },
   "source": [
    "# **Project overview\n",
    "\n",
    "\n",
    "Steps\n",
    "\n",
    "1. I want to get a feel for the data:\n",
    "    - What is the type of the data\n",
    "    - What kind of features do I have\n",
    "    - What is the distribution of the data like\n",
    "    - Correlation betweens features\n",
    "    \n",
    "2. Data exploration\n",
    "    - What are some intuitive ideas about what it would take to survive on the Titanic?\n",
    "        - Wealthy vs non-wealthy\n",
    "        - male vs female\n",
    "        - children vs adults\n",
    "        - traveling alone vs in groups\n",
    "        - location on the ship\n",
    "    - What are the value counts like for features based on the survived vs deceased?\n",
    "    \n",
    "    \n",
    "    \n",
    "    \n",
    " \n",
    "3. What kind of data manipulation has to be done to create models for this data set?\n",
    "     - Deal with missing values\n",
    "         - What data is to be dropped vs imputed\n",
    "     - How should data be transformed?\n",
    "         - get_dummies for categorical variables\n",
    "     - How should data be scaled?\n",
    "         - Should we do MinMaxScaler or StandardScaler?\n",
    "         \n",
    "         \n",
    "         \n",
    "         \n",
    "4. Create all classification models you know\n",
    "     - Logistic Regression\n",
    "     - KNN\n",
    "     - SVM\n",
    "     - Decision Tree\n",
    "     - Random Forests\n",
    "     - Boosting Methods\n",
    "     - Naive Bayes\n",
    "     \n",
    "5. GridSearch best params and find your best model\n",
    "     - Can show performance emtrics like classification report and plot the confusion matrix\n",
    "     \n",
    "     \n",
    "     \n",
    "     \n",
    "6. Conclude the project and make a submission to kaggle**"
   ]
  },
  {
   "cell_type": "code",
   "execution_count": null,
   "id": "92be90e7",
   "metadata": {
    "papermill": {
     "duration": 0.003735,
     "end_time": "2022-06-05T05:19:17.121867",
     "exception": false,
     "start_time": "2022-06-05T05:19:17.118132",
     "status": "completed"
    },
    "tags": []
   },
   "outputs": [],
   "source": []
  },
  {
   "cell_type": "code",
   "execution_count": null,
   "id": "7b6bbc03",
   "metadata": {
    "papermill": {
     "duration": 0.003543,
     "end_time": "2022-06-05T05:19:17.129220",
     "exception": false,
     "start_time": "2022-06-05T05:19:17.125677",
     "status": "completed"
    },
    "tags": []
   },
   "outputs": [],
   "source": []
  },
  {
   "cell_type": "code",
   "execution_count": null,
   "id": "319a8ad3",
   "metadata": {
    "papermill": {
     "duration": 0.003549,
     "end_time": "2022-06-05T05:19:17.136545",
     "exception": false,
     "start_time": "2022-06-05T05:19:17.132996",
     "status": "completed"
    },
    "tags": []
   },
   "outputs": [],
   "source": []
  },
  {
   "cell_type": "code",
   "execution_count": null,
   "id": "35f38752",
   "metadata": {
    "papermill": {
     "duration": 0.003546,
     "end_time": "2022-06-05T05:19:17.143825",
     "exception": false,
     "start_time": "2022-06-05T05:19:17.140279",
     "status": "completed"
    },
    "tags": []
   },
   "outputs": [],
   "source": []
  },
  {
   "cell_type": "code",
   "execution_count": null,
   "id": "b06a5ae8",
   "metadata": {
    "papermill": {
     "duration": 0.003529,
     "end_time": "2022-06-05T05:19:17.151080",
     "exception": false,
     "start_time": "2022-06-05T05:19:17.147551",
     "status": "completed"
    },
    "tags": []
   },
   "outputs": [],
   "source": []
  }
 ],
 "metadata": {
  "kernelspec": {
   "display_name": "Python 3",
   "language": "python",
   "name": "python3"
  },
  "language_info": {
   "codemirror_mode": {
    "name": "ipython",
    "version": 3
   },
   "file_extension": ".py",
   "mimetype": "text/x-python",
   "name": "python",
   "nbconvert_exporter": "python",
   "pygments_lexer": "ipython3",
   "version": "3.7.12"
  },
  "papermill": {
   "default_parameters": {},
   "duration": 11.345987,
   "end_time": "2022-06-05T05:19:17.876534",
   "environment_variables": {},
   "exception": null,
   "input_path": "__notebook__.ipynb",
   "output_path": "__notebook__.ipynb",
   "parameters": {},
   "start_time": "2022-06-05T05:19:06.530547",
   "version": "2.3.4"
  }
 },
 "nbformat": 4,
 "nbformat_minor": 5
}
